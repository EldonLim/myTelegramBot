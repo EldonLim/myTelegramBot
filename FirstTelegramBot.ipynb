{
  "nbformat": 4,
  "nbformat_minor": 0,
  "metadata": {
    "colab": {
      "provenance": [],
      "history_visible": true
    },
    "kernelspec": {
      "name": "python3",
      "display_name": "Python 3"
    },
    "language_info": {
      "name": "python"
    },
    "widgets": {
      "application/vnd.jupyter.widget-state+json": {
        "ada05a70e5f64857bda1df36ba698e04": {
          "model_module": "@jupyter-widgets/controls",
          "model_name": "HBoxModel",
          "model_module_version": "1.5.0",
          "state": {
            "_dom_classes": [],
            "_model_module": "@jupyter-widgets/controls",
            "_model_module_version": "1.5.0",
            "_model_name": "HBoxModel",
            "_view_count": null,
            "_view_module": "@jupyter-widgets/controls",
            "_view_module_version": "1.5.0",
            "_view_name": "HBoxView",
            "box_style": "",
            "children": [
              "IPY_MODEL_72cbf7199d364c5182012546a76caae3",
              "IPY_MODEL_8f978e46c33d4430b85c0d936a3b3c1f",
              "IPY_MODEL_84712915648142c9a3dbba366ad22596"
            ],
            "layout": "IPY_MODEL_f2701590a57e445d8717fa7db55e49e1"
          }
        },
        "72cbf7199d364c5182012546a76caae3": {
          "model_module": "@jupyter-widgets/controls",
          "model_name": "HTMLModel",
          "model_module_version": "1.5.0",
          "state": {
            "_dom_classes": [],
            "_model_module": "@jupyter-widgets/controls",
            "_model_module_version": "1.5.0",
            "_model_name": "HTMLModel",
            "_view_count": null,
            "_view_module": "@jupyter-widgets/controls",
            "_view_module_version": "1.5.0",
            "_view_name": "HTMLView",
            "description": "",
            "description_tooltip": null,
            "layout": "IPY_MODEL_3045359517024d7bbb8366e1e2bd8a08",
            "placeholder": "​",
            "style": "IPY_MODEL_1dfa3364075e4ac085214c2a3af20d4e",
            "value": "tokenizer_config.json: 100%"
          }
        },
        "8f978e46c33d4430b85c0d936a3b3c1f": {
          "model_module": "@jupyter-widgets/controls",
          "model_name": "FloatProgressModel",
          "model_module_version": "1.5.0",
          "state": {
            "_dom_classes": [],
            "_model_module": "@jupyter-widgets/controls",
            "_model_module_version": "1.5.0",
            "_model_name": "FloatProgressModel",
            "_view_count": null,
            "_view_module": "@jupyter-widgets/controls",
            "_view_module_version": "1.5.0",
            "_view_name": "ProgressView",
            "bar_style": "success",
            "description": "",
            "description_tooltip": null,
            "layout": "IPY_MODEL_514c495399bb473899072c161409b6e2",
            "max": 1460,
            "min": 0,
            "orientation": "horizontal",
            "style": "IPY_MODEL_57df228008b84519a6925ef2ef98cf7c",
            "value": 1460
          }
        },
        "84712915648142c9a3dbba366ad22596": {
          "model_module": "@jupyter-widgets/controls",
          "model_name": "HTMLModel",
          "model_module_version": "1.5.0",
          "state": {
            "_dom_classes": [],
            "_model_module": "@jupyter-widgets/controls",
            "_model_module_version": "1.5.0",
            "_model_name": "HTMLModel",
            "_view_count": null,
            "_view_module": "@jupyter-widgets/controls",
            "_view_module_version": "1.5.0",
            "_view_name": "HTMLView",
            "description": "",
            "description_tooltip": null,
            "layout": "IPY_MODEL_30c4e60734d34cfd8169333068deb62d",
            "placeholder": "​",
            "style": "IPY_MODEL_4b3de33e362e475a9d72ecd5e1b6de83",
            "value": " 1.46k/1.46k [00:00&lt;00:00, 40.1kB/s]"
          }
        },
        "f2701590a57e445d8717fa7db55e49e1": {
          "model_module": "@jupyter-widgets/base",
          "model_name": "LayoutModel",
          "model_module_version": "1.2.0",
          "state": {
            "_model_module": "@jupyter-widgets/base",
            "_model_module_version": "1.2.0",
            "_model_name": "LayoutModel",
            "_view_count": null,
            "_view_module": "@jupyter-widgets/base",
            "_view_module_version": "1.2.0",
            "_view_name": "LayoutView",
            "align_content": null,
            "align_items": null,
            "align_self": null,
            "border": null,
            "bottom": null,
            "display": null,
            "flex": null,
            "flex_flow": null,
            "grid_area": null,
            "grid_auto_columns": null,
            "grid_auto_flow": null,
            "grid_auto_rows": null,
            "grid_column": null,
            "grid_gap": null,
            "grid_row": null,
            "grid_template_areas": null,
            "grid_template_columns": null,
            "grid_template_rows": null,
            "height": null,
            "justify_content": null,
            "justify_items": null,
            "left": null,
            "margin": null,
            "max_height": null,
            "max_width": null,
            "min_height": null,
            "min_width": null,
            "object_fit": null,
            "object_position": null,
            "order": null,
            "overflow": null,
            "overflow_x": null,
            "overflow_y": null,
            "padding": null,
            "right": null,
            "top": null,
            "visibility": null,
            "width": null
          }
        },
        "3045359517024d7bbb8366e1e2bd8a08": {
          "model_module": "@jupyter-widgets/base",
          "model_name": "LayoutModel",
          "model_module_version": "1.2.0",
          "state": {
            "_model_module": "@jupyter-widgets/base",
            "_model_module_version": "1.2.0",
            "_model_name": "LayoutModel",
            "_view_count": null,
            "_view_module": "@jupyter-widgets/base",
            "_view_module_version": "1.2.0",
            "_view_name": "LayoutView",
            "align_content": null,
            "align_items": null,
            "align_self": null,
            "border": null,
            "bottom": null,
            "display": null,
            "flex": null,
            "flex_flow": null,
            "grid_area": null,
            "grid_auto_columns": null,
            "grid_auto_flow": null,
            "grid_auto_rows": null,
            "grid_column": null,
            "grid_gap": null,
            "grid_row": null,
            "grid_template_areas": null,
            "grid_template_columns": null,
            "grid_template_rows": null,
            "height": null,
            "justify_content": null,
            "justify_items": null,
            "left": null,
            "margin": null,
            "max_height": null,
            "max_width": null,
            "min_height": null,
            "min_width": null,
            "object_fit": null,
            "object_position": null,
            "order": null,
            "overflow": null,
            "overflow_x": null,
            "overflow_y": null,
            "padding": null,
            "right": null,
            "top": null,
            "visibility": null,
            "width": null
          }
        },
        "1dfa3364075e4ac085214c2a3af20d4e": {
          "model_module": "@jupyter-widgets/controls",
          "model_name": "DescriptionStyleModel",
          "model_module_version": "1.5.0",
          "state": {
            "_model_module": "@jupyter-widgets/controls",
            "_model_module_version": "1.5.0",
            "_model_name": "DescriptionStyleModel",
            "_view_count": null,
            "_view_module": "@jupyter-widgets/base",
            "_view_module_version": "1.2.0",
            "_view_name": "StyleView",
            "description_width": ""
          }
        },
        "514c495399bb473899072c161409b6e2": {
          "model_module": "@jupyter-widgets/base",
          "model_name": "LayoutModel",
          "model_module_version": "1.2.0",
          "state": {
            "_model_module": "@jupyter-widgets/base",
            "_model_module_version": "1.2.0",
            "_model_name": "LayoutModel",
            "_view_count": null,
            "_view_module": "@jupyter-widgets/base",
            "_view_module_version": "1.2.0",
            "_view_name": "LayoutView",
            "align_content": null,
            "align_items": null,
            "align_self": null,
            "border": null,
            "bottom": null,
            "display": null,
            "flex": null,
            "flex_flow": null,
            "grid_area": null,
            "grid_auto_columns": null,
            "grid_auto_flow": null,
            "grid_auto_rows": null,
            "grid_column": null,
            "grid_gap": null,
            "grid_row": null,
            "grid_template_areas": null,
            "grid_template_columns": null,
            "grid_template_rows": null,
            "height": null,
            "justify_content": null,
            "justify_items": null,
            "left": null,
            "margin": null,
            "max_height": null,
            "max_width": null,
            "min_height": null,
            "min_width": null,
            "object_fit": null,
            "object_position": null,
            "order": null,
            "overflow": null,
            "overflow_x": null,
            "overflow_y": null,
            "padding": null,
            "right": null,
            "top": null,
            "visibility": null,
            "width": null
          }
        },
        "57df228008b84519a6925ef2ef98cf7c": {
          "model_module": "@jupyter-widgets/controls",
          "model_name": "ProgressStyleModel",
          "model_module_version": "1.5.0",
          "state": {
            "_model_module": "@jupyter-widgets/controls",
            "_model_module_version": "1.5.0",
            "_model_name": "ProgressStyleModel",
            "_view_count": null,
            "_view_module": "@jupyter-widgets/base",
            "_view_module_version": "1.2.0",
            "_view_name": "StyleView",
            "bar_color": null,
            "description_width": ""
          }
        },
        "30c4e60734d34cfd8169333068deb62d": {
          "model_module": "@jupyter-widgets/base",
          "model_name": "LayoutModel",
          "model_module_version": "1.2.0",
          "state": {
            "_model_module": "@jupyter-widgets/base",
            "_model_module_version": "1.2.0",
            "_model_name": "LayoutModel",
            "_view_count": null,
            "_view_module": "@jupyter-widgets/base",
            "_view_module_version": "1.2.0",
            "_view_name": "LayoutView",
            "align_content": null,
            "align_items": null,
            "align_self": null,
            "border": null,
            "bottom": null,
            "display": null,
            "flex": null,
            "flex_flow": null,
            "grid_area": null,
            "grid_auto_columns": null,
            "grid_auto_flow": null,
            "grid_auto_rows": null,
            "grid_column": null,
            "grid_gap": null,
            "grid_row": null,
            "grid_template_areas": null,
            "grid_template_columns": null,
            "grid_template_rows": null,
            "height": null,
            "justify_content": null,
            "justify_items": null,
            "left": null,
            "margin": null,
            "max_height": null,
            "max_width": null,
            "min_height": null,
            "min_width": null,
            "object_fit": null,
            "object_position": null,
            "order": null,
            "overflow": null,
            "overflow_x": null,
            "overflow_y": null,
            "padding": null,
            "right": null,
            "top": null,
            "visibility": null,
            "width": null
          }
        },
        "4b3de33e362e475a9d72ecd5e1b6de83": {
          "model_module": "@jupyter-widgets/controls",
          "model_name": "DescriptionStyleModel",
          "model_module_version": "1.5.0",
          "state": {
            "_model_module": "@jupyter-widgets/controls",
            "_model_module_version": "1.5.0",
            "_model_name": "DescriptionStyleModel",
            "_view_count": null,
            "_view_module": "@jupyter-widgets/base",
            "_view_module_version": "1.2.0",
            "_view_name": "StyleView",
            "description_width": ""
          }
        },
        "314fa9fd4d6c453fa2c3ba2d1e646d02": {
          "model_module": "@jupyter-widgets/controls",
          "model_name": "HBoxModel",
          "model_module_version": "1.5.0",
          "state": {
            "_dom_classes": [],
            "_model_module": "@jupyter-widgets/controls",
            "_model_module_version": "1.5.0",
            "_model_name": "HBoxModel",
            "_view_count": null,
            "_view_module": "@jupyter-widgets/controls",
            "_view_module_version": "1.5.0",
            "_view_name": "HBoxView",
            "box_style": "",
            "children": [
              "IPY_MODEL_4fcab14a6a1d43859c399296680dc54f",
              "IPY_MODEL_bba8d3de1faa4ecd9632c606a5522e91",
              "IPY_MODEL_1052a9b7e90047f2919b01323b212a4c"
            ],
            "layout": "IPY_MODEL_b7016e9703e14afc8e45b2936a59d1fb"
          }
        },
        "4fcab14a6a1d43859c399296680dc54f": {
          "model_module": "@jupyter-widgets/controls",
          "model_name": "HTMLModel",
          "model_module_version": "1.5.0",
          "state": {
            "_dom_classes": [],
            "_model_module": "@jupyter-widgets/controls",
            "_model_module_version": "1.5.0",
            "_model_name": "HTMLModel",
            "_view_count": null,
            "_view_module": "@jupyter-widgets/controls",
            "_view_module_version": "1.5.0",
            "_view_name": "HTMLView",
            "description": "",
            "description_tooltip": null,
            "layout": "IPY_MODEL_835b3c5bbef243ef9bdf7132b4770e50",
            "placeholder": "​",
            "style": "IPY_MODEL_658a2db39b4249e090819b5ce4079545",
            "value": "tokenizer.model: 100%"
          }
        },
        "bba8d3de1faa4ecd9632c606a5522e91": {
          "model_module": "@jupyter-widgets/controls",
          "model_name": "FloatProgressModel",
          "model_module_version": "1.5.0",
          "state": {
            "_dom_classes": [],
            "_model_module": "@jupyter-widgets/controls",
            "_model_module_version": "1.5.0",
            "_model_name": "FloatProgressModel",
            "_view_count": null,
            "_view_module": "@jupyter-widgets/controls",
            "_view_module_version": "1.5.0",
            "_view_name": "ProgressView",
            "bar_style": "success",
            "description": "",
            "description_tooltip": null,
            "layout": "IPY_MODEL_7fe2f8f6b32d4a6ea0733d0ff2776c0f",
            "max": 493443,
            "min": 0,
            "orientation": "horizontal",
            "style": "IPY_MODEL_15ac2e37b0ad48d585844474f55b030f",
            "value": 493443
          }
        },
        "1052a9b7e90047f2919b01323b212a4c": {
          "model_module": "@jupyter-widgets/controls",
          "model_name": "HTMLModel",
          "model_module_version": "1.5.0",
          "state": {
            "_dom_classes": [],
            "_model_module": "@jupyter-widgets/controls",
            "_model_module_version": "1.5.0",
            "_model_name": "HTMLModel",
            "_view_count": null,
            "_view_module": "@jupyter-widgets/controls",
            "_view_module_version": "1.5.0",
            "_view_name": "HTMLView",
            "description": "",
            "description_tooltip": null,
            "layout": "IPY_MODEL_c523227eb64242b8850f8a2bb6623b3a",
            "placeholder": "​",
            "style": "IPY_MODEL_1645ddecbbad4e35a8c4593d418e81fd",
            "value": " 493k/493k [00:00&lt;00:00, 4.61MB/s]"
          }
        },
        "b7016e9703e14afc8e45b2936a59d1fb": {
          "model_module": "@jupyter-widgets/base",
          "model_name": "LayoutModel",
          "model_module_version": "1.2.0",
          "state": {
            "_model_module": "@jupyter-widgets/base",
            "_model_module_version": "1.2.0",
            "_model_name": "LayoutModel",
            "_view_count": null,
            "_view_module": "@jupyter-widgets/base",
            "_view_module_version": "1.2.0",
            "_view_name": "LayoutView",
            "align_content": null,
            "align_items": null,
            "align_self": null,
            "border": null,
            "bottom": null,
            "display": null,
            "flex": null,
            "flex_flow": null,
            "grid_area": null,
            "grid_auto_columns": null,
            "grid_auto_flow": null,
            "grid_auto_rows": null,
            "grid_column": null,
            "grid_gap": null,
            "grid_row": null,
            "grid_template_areas": null,
            "grid_template_columns": null,
            "grid_template_rows": null,
            "height": null,
            "justify_content": null,
            "justify_items": null,
            "left": null,
            "margin": null,
            "max_height": null,
            "max_width": null,
            "min_height": null,
            "min_width": null,
            "object_fit": null,
            "object_position": null,
            "order": null,
            "overflow": null,
            "overflow_x": null,
            "overflow_y": null,
            "padding": null,
            "right": null,
            "top": null,
            "visibility": null,
            "width": null
          }
        },
        "835b3c5bbef243ef9bdf7132b4770e50": {
          "model_module": "@jupyter-widgets/base",
          "model_name": "LayoutModel",
          "model_module_version": "1.2.0",
          "state": {
            "_model_module": "@jupyter-widgets/base",
            "_model_module_version": "1.2.0",
            "_model_name": "LayoutModel",
            "_view_count": null,
            "_view_module": "@jupyter-widgets/base",
            "_view_module_version": "1.2.0",
            "_view_name": "LayoutView",
            "align_content": null,
            "align_items": null,
            "align_self": null,
            "border": null,
            "bottom": null,
            "display": null,
            "flex": null,
            "flex_flow": null,
            "grid_area": null,
            "grid_auto_columns": null,
            "grid_auto_flow": null,
            "grid_auto_rows": null,
            "grid_column": null,
            "grid_gap": null,
            "grid_row": null,
            "grid_template_areas": null,
            "grid_template_columns": null,
            "grid_template_rows": null,
            "height": null,
            "justify_content": null,
            "justify_items": null,
            "left": null,
            "margin": null,
            "max_height": null,
            "max_width": null,
            "min_height": null,
            "min_width": null,
            "object_fit": null,
            "object_position": null,
            "order": null,
            "overflow": null,
            "overflow_x": null,
            "overflow_y": null,
            "padding": null,
            "right": null,
            "top": null,
            "visibility": null,
            "width": null
          }
        },
        "658a2db39b4249e090819b5ce4079545": {
          "model_module": "@jupyter-widgets/controls",
          "model_name": "DescriptionStyleModel",
          "model_module_version": "1.5.0",
          "state": {
            "_model_module": "@jupyter-widgets/controls",
            "_model_module_version": "1.5.0",
            "_model_name": "DescriptionStyleModel",
            "_view_count": null,
            "_view_module": "@jupyter-widgets/base",
            "_view_module_version": "1.2.0",
            "_view_name": "StyleView",
            "description_width": ""
          }
        },
        "7fe2f8f6b32d4a6ea0733d0ff2776c0f": {
          "model_module": "@jupyter-widgets/base",
          "model_name": "LayoutModel",
          "model_module_version": "1.2.0",
          "state": {
            "_model_module": "@jupyter-widgets/base",
            "_model_module_version": "1.2.0",
            "_model_name": "LayoutModel",
            "_view_count": null,
            "_view_module": "@jupyter-widgets/base",
            "_view_module_version": "1.2.0",
            "_view_name": "LayoutView",
            "align_content": null,
            "align_items": null,
            "align_self": null,
            "border": null,
            "bottom": null,
            "display": null,
            "flex": null,
            "flex_flow": null,
            "grid_area": null,
            "grid_auto_columns": null,
            "grid_auto_flow": null,
            "grid_auto_rows": null,
            "grid_column": null,
            "grid_gap": null,
            "grid_row": null,
            "grid_template_areas": null,
            "grid_template_columns": null,
            "grid_template_rows": null,
            "height": null,
            "justify_content": null,
            "justify_items": null,
            "left": null,
            "margin": null,
            "max_height": null,
            "max_width": null,
            "min_height": null,
            "min_width": null,
            "object_fit": null,
            "object_position": null,
            "order": null,
            "overflow": null,
            "overflow_x": null,
            "overflow_y": null,
            "padding": null,
            "right": null,
            "top": null,
            "visibility": null,
            "width": null
          }
        },
        "15ac2e37b0ad48d585844474f55b030f": {
          "model_module": "@jupyter-widgets/controls",
          "model_name": "ProgressStyleModel",
          "model_module_version": "1.5.0",
          "state": {
            "_model_module": "@jupyter-widgets/controls",
            "_model_module_version": "1.5.0",
            "_model_name": "ProgressStyleModel",
            "_view_count": null,
            "_view_module": "@jupyter-widgets/base",
            "_view_module_version": "1.2.0",
            "_view_name": "StyleView",
            "bar_color": null,
            "description_width": ""
          }
        },
        "c523227eb64242b8850f8a2bb6623b3a": {
          "model_module": "@jupyter-widgets/base",
          "model_name": "LayoutModel",
          "model_module_version": "1.2.0",
          "state": {
            "_model_module": "@jupyter-widgets/base",
            "_model_module_version": "1.2.0",
            "_model_name": "LayoutModel",
            "_view_count": null,
            "_view_module": "@jupyter-widgets/base",
            "_view_module_version": "1.2.0",
            "_view_name": "LayoutView",
            "align_content": null,
            "align_items": null,
            "align_self": null,
            "border": null,
            "bottom": null,
            "display": null,
            "flex": null,
            "flex_flow": null,
            "grid_area": null,
            "grid_auto_columns": null,
            "grid_auto_flow": null,
            "grid_auto_rows": null,
            "grid_column": null,
            "grid_gap": null,
            "grid_row": null,
            "grid_template_areas": null,
            "grid_template_columns": null,
            "grid_template_rows": null,
            "height": null,
            "justify_content": null,
            "justify_items": null,
            "left": null,
            "margin": null,
            "max_height": null,
            "max_width": null,
            "min_height": null,
            "min_width": null,
            "object_fit": null,
            "object_position": null,
            "order": null,
            "overflow": null,
            "overflow_x": null,
            "overflow_y": null,
            "padding": null,
            "right": null,
            "top": null,
            "visibility": null,
            "width": null
          }
        },
        "1645ddecbbad4e35a8c4593d418e81fd": {
          "model_module": "@jupyter-widgets/controls",
          "model_name": "DescriptionStyleModel",
          "model_module_version": "1.5.0",
          "state": {
            "_model_module": "@jupyter-widgets/controls",
            "_model_module_version": "1.5.0",
            "_model_name": "DescriptionStyleModel",
            "_view_count": null,
            "_view_module": "@jupyter-widgets/base",
            "_view_module_version": "1.2.0",
            "_view_name": "StyleView",
            "description_width": ""
          }
        },
        "48e4645bcbee446893fca34988a98c7d": {
          "model_module": "@jupyter-widgets/controls",
          "model_name": "HBoxModel",
          "model_module_version": "1.5.0",
          "state": {
            "_dom_classes": [],
            "_model_module": "@jupyter-widgets/controls",
            "_model_module_version": "1.5.0",
            "_model_name": "HBoxModel",
            "_view_count": null,
            "_view_module": "@jupyter-widgets/controls",
            "_view_module_version": "1.5.0",
            "_view_name": "HBoxView",
            "box_style": "",
            "children": [
              "IPY_MODEL_6e5d9790e27840aca45308e64e914098",
              "IPY_MODEL_fe7940000a6b41cea594127d61eb3cf5",
              "IPY_MODEL_d61aab3882684e7aa95020cede9f0526"
            ],
            "layout": "IPY_MODEL_11f2a0379f144fb2af617ec706e0640f"
          }
        },
        "6e5d9790e27840aca45308e64e914098": {
          "model_module": "@jupyter-widgets/controls",
          "model_name": "HTMLModel",
          "model_module_version": "1.5.0",
          "state": {
            "_dom_classes": [],
            "_model_module": "@jupyter-widgets/controls",
            "_model_module_version": "1.5.0",
            "_model_name": "HTMLModel",
            "_view_count": null,
            "_view_module": "@jupyter-widgets/controls",
            "_view_module_version": "1.5.0",
            "_view_name": "HTMLView",
            "description": "",
            "description_tooltip": null,
            "layout": "IPY_MODEL_86a9efb89c404d0abacb1400fa969830",
            "placeholder": "​",
            "style": "IPY_MODEL_a5a69dfc6a13433e8f3cb4d48a8ced66",
            "value": "tokenizer.json: 100%"
          }
        },
        "fe7940000a6b41cea594127d61eb3cf5": {
          "model_module": "@jupyter-widgets/controls",
          "model_name": "FloatProgressModel",
          "model_module_version": "1.5.0",
          "state": {
            "_dom_classes": [],
            "_model_module": "@jupyter-widgets/controls",
            "_model_module_version": "1.5.0",
            "_model_name": "FloatProgressModel",
            "_view_count": null,
            "_view_module": "@jupyter-widgets/controls",
            "_view_module_version": "1.5.0",
            "_view_name": "ProgressView",
            "bar_style": "success",
            "description": "",
            "description_tooltip": null,
            "layout": "IPY_MODEL_cfd782bc47c44e87937aeb95140b827d",
            "max": 1795303,
            "min": 0,
            "orientation": "horizontal",
            "style": "IPY_MODEL_394e0ece60e64d59b012e5e63e5650a6",
            "value": 1795303
          }
        },
        "d61aab3882684e7aa95020cede9f0526": {
          "model_module": "@jupyter-widgets/controls",
          "model_name": "HTMLModel",
          "model_module_version": "1.5.0",
          "state": {
            "_dom_classes": [],
            "_model_module": "@jupyter-widgets/controls",
            "_model_module_version": "1.5.0",
            "_model_name": "HTMLModel",
            "_view_count": null,
            "_view_module": "@jupyter-widgets/controls",
            "_view_module_version": "1.5.0",
            "_view_name": "HTMLView",
            "description": "",
            "description_tooltip": null,
            "layout": "IPY_MODEL_8e59f7bb078445cc83a97edc182e2fc7",
            "placeholder": "​",
            "style": "IPY_MODEL_529ed2a946e7427ca365724cdeccb537",
            "value": " 1.80M/1.80M [00:00&lt;00:00, 11.7MB/s]"
          }
        },
        "11f2a0379f144fb2af617ec706e0640f": {
          "model_module": "@jupyter-widgets/base",
          "model_name": "LayoutModel",
          "model_module_version": "1.2.0",
          "state": {
            "_model_module": "@jupyter-widgets/base",
            "_model_module_version": "1.2.0",
            "_model_name": "LayoutModel",
            "_view_count": null,
            "_view_module": "@jupyter-widgets/base",
            "_view_module_version": "1.2.0",
            "_view_name": "LayoutView",
            "align_content": null,
            "align_items": null,
            "align_self": null,
            "border": null,
            "bottom": null,
            "display": null,
            "flex": null,
            "flex_flow": null,
            "grid_area": null,
            "grid_auto_columns": null,
            "grid_auto_flow": null,
            "grid_auto_rows": null,
            "grid_column": null,
            "grid_gap": null,
            "grid_row": null,
            "grid_template_areas": null,
            "grid_template_columns": null,
            "grid_template_rows": null,
            "height": null,
            "justify_content": null,
            "justify_items": null,
            "left": null,
            "margin": null,
            "max_height": null,
            "max_width": null,
            "min_height": null,
            "min_width": null,
            "object_fit": null,
            "object_position": null,
            "order": null,
            "overflow": null,
            "overflow_x": null,
            "overflow_y": null,
            "padding": null,
            "right": null,
            "top": null,
            "visibility": null,
            "width": null
          }
        },
        "86a9efb89c404d0abacb1400fa969830": {
          "model_module": "@jupyter-widgets/base",
          "model_name": "LayoutModel",
          "model_module_version": "1.2.0",
          "state": {
            "_model_module": "@jupyter-widgets/base",
            "_model_module_version": "1.2.0",
            "_model_name": "LayoutModel",
            "_view_count": null,
            "_view_module": "@jupyter-widgets/base",
            "_view_module_version": "1.2.0",
            "_view_name": "LayoutView",
            "align_content": null,
            "align_items": null,
            "align_self": null,
            "border": null,
            "bottom": null,
            "display": null,
            "flex": null,
            "flex_flow": null,
            "grid_area": null,
            "grid_auto_columns": null,
            "grid_auto_flow": null,
            "grid_auto_rows": null,
            "grid_column": null,
            "grid_gap": null,
            "grid_row": null,
            "grid_template_areas": null,
            "grid_template_columns": null,
            "grid_template_rows": null,
            "height": null,
            "justify_content": null,
            "justify_items": null,
            "left": null,
            "margin": null,
            "max_height": null,
            "max_width": null,
            "min_height": null,
            "min_width": null,
            "object_fit": null,
            "object_position": null,
            "order": null,
            "overflow": null,
            "overflow_x": null,
            "overflow_y": null,
            "padding": null,
            "right": null,
            "top": null,
            "visibility": null,
            "width": null
          }
        },
        "a5a69dfc6a13433e8f3cb4d48a8ced66": {
          "model_module": "@jupyter-widgets/controls",
          "model_name": "DescriptionStyleModel",
          "model_module_version": "1.5.0",
          "state": {
            "_model_module": "@jupyter-widgets/controls",
            "_model_module_version": "1.5.0",
            "_model_name": "DescriptionStyleModel",
            "_view_count": null,
            "_view_module": "@jupyter-widgets/base",
            "_view_module_version": "1.2.0",
            "_view_name": "StyleView",
            "description_width": ""
          }
        },
        "cfd782bc47c44e87937aeb95140b827d": {
          "model_module": "@jupyter-widgets/base",
          "model_name": "LayoutModel",
          "model_module_version": "1.2.0",
          "state": {
            "_model_module": "@jupyter-widgets/base",
            "_model_module_version": "1.2.0",
            "_model_name": "LayoutModel",
            "_view_count": null,
            "_view_module": "@jupyter-widgets/base",
            "_view_module_version": "1.2.0",
            "_view_name": "LayoutView",
            "align_content": null,
            "align_items": null,
            "align_self": null,
            "border": null,
            "bottom": null,
            "display": null,
            "flex": null,
            "flex_flow": null,
            "grid_area": null,
            "grid_auto_columns": null,
            "grid_auto_flow": null,
            "grid_auto_rows": null,
            "grid_column": null,
            "grid_gap": null,
            "grid_row": null,
            "grid_template_areas": null,
            "grid_template_columns": null,
            "grid_template_rows": null,
            "height": null,
            "justify_content": null,
            "justify_items": null,
            "left": null,
            "margin": null,
            "max_height": null,
            "max_width": null,
            "min_height": null,
            "min_width": null,
            "object_fit": null,
            "object_position": null,
            "order": null,
            "overflow": null,
            "overflow_x": null,
            "overflow_y": null,
            "padding": null,
            "right": null,
            "top": null,
            "visibility": null,
            "width": null
          }
        },
        "394e0ece60e64d59b012e5e63e5650a6": {
          "model_module": "@jupyter-widgets/controls",
          "model_name": "ProgressStyleModel",
          "model_module_version": "1.5.0",
          "state": {
            "_model_module": "@jupyter-widgets/controls",
            "_model_module_version": "1.5.0",
            "_model_name": "ProgressStyleModel",
            "_view_count": null,
            "_view_module": "@jupyter-widgets/base",
            "_view_module_version": "1.2.0",
            "_view_name": "StyleView",
            "bar_color": null,
            "description_width": ""
          }
        },
        "8e59f7bb078445cc83a97edc182e2fc7": {
          "model_module": "@jupyter-widgets/base",
          "model_name": "LayoutModel",
          "model_module_version": "1.2.0",
          "state": {
            "_model_module": "@jupyter-widgets/base",
            "_model_module_version": "1.2.0",
            "_model_name": "LayoutModel",
            "_view_count": null,
            "_view_module": "@jupyter-widgets/base",
            "_view_module_version": "1.2.0",
            "_view_name": "LayoutView",
            "align_content": null,
            "align_items": null,
            "align_self": null,
            "border": null,
            "bottom": null,
            "display": null,
            "flex": null,
            "flex_flow": null,
            "grid_area": null,
            "grid_auto_columns": null,
            "grid_auto_flow": null,
            "grid_auto_rows": null,
            "grid_column": null,
            "grid_gap": null,
            "grid_row": null,
            "grid_template_areas": null,
            "grid_template_columns": null,
            "grid_template_rows": null,
            "height": null,
            "justify_content": null,
            "justify_items": null,
            "left": null,
            "margin": null,
            "max_height": null,
            "max_width": null,
            "min_height": null,
            "min_width": null,
            "object_fit": null,
            "object_position": null,
            "order": null,
            "overflow": null,
            "overflow_x": null,
            "overflow_y": null,
            "padding": null,
            "right": null,
            "top": null,
            "visibility": null,
            "width": null
          }
        },
        "529ed2a946e7427ca365724cdeccb537": {
          "model_module": "@jupyter-widgets/controls",
          "model_name": "DescriptionStyleModel",
          "model_module_version": "1.5.0",
          "state": {
            "_model_module": "@jupyter-widgets/controls",
            "_model_module_version": "1.5.0",
            "_model_name": "DescriptionStyleModel",
            "_view_count": null,
            "_view_module": "@jupyter-widgets/base",
            "_view_module_version": "1.2.0",
            "_view_name": "StyleView",
            "description_width": ""
          }
        },
        "5003041975254aa18057de3edf93fec6": {
          "model_module": "@jupyter-widgets/controls",
          "model_name": "HBoxModel",
          "model_module_version": "1.5.0",
          "state": {
            "_dom_classes": [],
            "_model_module": "@jupyter-widgets/controls",
            "_model_module_version": "1.5.0",
            "_model_name": "HBoxModel",
            "_view_count": null,
            "_view_module": "@jupyter-widgets/controls",
            "_view_module_version": "1.5.0",
            "_view_name": "HBoxView",
            "box_style": "",
            "children": [
              "IPY_MODEL_5b4a39dec93347918b737d9359316e2e",
              "IPY_MODEL_43a0eea931e24720ba4fddacc4ddc80b",
              "IPY_MODEL_bbf229c0f7e046959882d0aeaf23f8a0"
            ],
            "layout": "IPY_MODEL_29697f0631cd4c388ddbbacec5f5b318"
          }
        },
        "5b4a39dec93347918b737d9359316e2e": {
          "model_module": "@jupyter-widgets/controls",
          "model_name": "HTMLModel",
          "model_module_version": "1.5.0",
          "state": {
            "_dom_classes": [],
            "_model_module": "@jupyter-widgets/controls",
            "_model_module_version": "1.5.0",
            "_model_name": "HTMLModel",
            "_view_count": null,
            "_view_module": "@jupyter-widgets/controls",
            "_view_module_version": "1.5.0",
            "_view_name": "HTMLView",
            "description": "",
            "description_tooltip": null,
            "layout": "IPY_MODEL_3f8b07028ae943feb4c635054215fd78",
            "placeholder": "​",
            "style": "IPY_MODEL_78bed260c7c545c8bef5678f6bdc09d9",
            "value": "special_tokens_map.json: 100%"
          }
        },
        "43a0eea931e24720ba4fddacc4ddc80b": {
          "model_module": "@jupyter-widgets/controls",
          "model_name": "FloatProgressModel",
          "model_module_version": "1.5.0",
          "state": {
            "_dom_classes": [],
            "_model_module": "@jupyter-widgets/controls",
            "_model_module_version": "1.5.0",
            "_model_name": "FloatProgressModel",
            "_view_count": null,
            "_view_module": "@jupyter-widgets/controls",
            "_view_module_version": "1.5.0",
            "_view_name": "ProgressView",
            "bar_style": "success",
            "description": "",
            "description_tooltip": null,
            "layout": "IPY_MODEL_1dff89254571458cb48b3b8aeff90273",
            "max": 72,
            "min": 0,
            "orientation": "horizontal",
            "style": "IPY_MODEL_a14565a3d50a427b8cb9aa9e971edd7c",
            "value": 72
          }
        },
        "bbf229c0f7e046959882d0aeaf23f8a0": {
          "model_module": "@jupyter-widgets/controls",
          "model_name": "HTMLModel",
          "model_module_version": "1.5.0",
          "state": {
            "_dom_classes": [],
            "_model_module": "@jupyter-widgets/controls",
            "_model_module_version": "1.5.0",
            "_model_name": "HTMLModel",
            "_view_count": null,
            "_view_module": "@jupyter-widgets/controls",
            "_view_module_version": "1.5.0",
            "_view_name": "HTMLView",
            "description": "",
            "description_tooltip": null,
            "layout": "IPY_MODEL_04dcc7824ab14f3db7143f2fd9d5a145",
            "placeholder": "​",
            "style": "IPY_MODEL_195798de52974665b5504c416b892130",
            "value": " 72.0/72.0 [00:00&lt;00:00, 3.81kB/s]"
          }
        },
        "29697f0631cd4c388ddbbacec5f5b318": {
          "model_module": "@jupyter-widgets/base",
          "model_name": "LayoutModel",
          "model_module_version": "1.2.0",
          "state": {
            "_model_module": "@jupyter-widgets/base",
            "_model_module_version": "1.2.0",
            "_model_name": "LayoutModel",
            "_view_count": null,
            "_view_module": "@jupyter-widgets/base",
            "_view_module_version": "1.2.0",
            "_view_name": "LayoutView",
            "align_content": null,
            "align_items": null,
            "align_self": null,
            "border": null,
            "bottom": null,
            "display": null,
            "flex": null,
            "flex_flow": null,
            "grid_area": null,
            "grid_auto_columns": null,
            "grid_auto_flow": null,
            "grid_auto_rows": null,
            "grid_column": null,
            "grid_gap": null,
            "grid_row": null,
            "grid_template_areas": null,
            "grid_template_columns": null,
            "grid_template_rows": null,
            "height": null,
            "justify_content": null,
            "justify_items": null,
            "left": null,
            "margin": null,
            "max_height": null,
            "max_width": null,
            "min_height": null,
            "min_width": null,
            "object_fit": null,
            "object_position": null,
            "order": null,
            "overflow": null,
            "overflow_x": null,
            "overflow_y": null,
            "padding": null,
            "right": null,
            "top": null,
            "visibility": null,
            "width": null
          }
        },
        "3f8b07028ae943feb4c635054215fd78": {
          "model_module": "@jupyter-widgets/base",
          "model_name": "LayoutModel",
          "model_module_version": "1.2.0",
          "state": {
            "_model_module": "@jupyter-widgets/base",
            "_model_module_version": "1.2.0",
            "_model_name": "LayoutModel",
            "_view_count": null,
            "_view_module": "@jupyter-widgets/base",
            "_view_module_version": "1.2.0",
            "_view_name": "LayoutView",
            "align_content": null,
            "align_items": null,
            "align_self": null,
            "border": null,
            "bottom": null,
            "display": null,
            "flex": null,
            "flex_flow": null,
            "grid_area": null,
            "grid_auto_columns": null,
            "grid_auto_flow": null,
            "grid_auto_rows": null,
            "grid_column": null,
            "grid_gap": null,
            "grid_row": null,
            "grid_template_areas": null,
            "grid_template_columns": null,
            "grid_template_rows": null,
            "height": null,
            "justify_content": null,
            "justify_items": null,
            "left": null,
            "margin": null,
            "max_height": null,
            "max_width": null,
            "min_height": null,
            "min_width": null,
            "object_fit": null,
            "object_position": null,
            "order": null,
            "overflow": null,
            "overflow_x": null,
            "overflow_y": null,
            "padding": null,
            "right": null,
            "top": null,
            "visibility": null,
            "width": null
          }
        },
        "78bed260c7c545c8bef5678f6bdc09d9": {
          "model_module": "@jupyter-widgets/controls",
          "model_name": "DescriptionStyleModel",
          "model_module_version": "1.5.0",
          "state": {
            "_model_module": "@jupyter-widgets/controls",
            "_model_module_version": "1.5.0",
            "_model_name": "DescriptionStyleModel",
            "_view_count": null,
            "_view_module": "@jupyter-widgets/base",
            "_view_module_version": "1.2.0",
            "_view_name": "StyleView",
            "description_width": ""
          }
        },
        "1dff89254571458cb48b3b8aeff90273": {
          "model_module": "@jupyter-widgets/base",
          "model_name": "LayoutModel",
          "model_module_version": "1.2.0",
          "state": {
            "_model_module": "@jupyter-widgets/base",
            "_model_module_version": "1.2.0",
            "_model_name": "LayoutModel",
            "_view_count": null,
            "_view_module": "@jupyter-widgets/base",
            "_view_module_version": "1.2.0",
            "_view_name": "LayoutView",
            "align_content": null,
            "align_items": null,
            "align_self": null,
            "border": null,
            "bottom": null,
            "display": null,
            "flex": null,
            "flex_flow": null,
            "grid_area": null,
            "grid_auto_columns": null,
            "grid_auto_flow": null,
            "grid_auto_rows": null,
            "grid_column": null,
            "grid_gap": null,
            "grid_row": null,
            "grid_template_areas": null,
            "grid_template_columns": null,
            "grid_template_rows": null,
            "height": null,
            "justify_content": null,
            "justify_items": null,
            "left": null,
            "margin": null,
            "max_height": null,
            "max_width": null,
            "min_height": null,
            "min_width": null,
            "object_fit": null,
            "object_position": null,
            "order": null,
            "overflow": null,
            "overflow_x": null,
            "overflow_y": null,
            "padding": null,
            "right": null,
            "top": null,
            "visibility": null,
            "width": null
          }
        },
        "a14565a3d50a427b8cb9aa9e971edd7c": {
          "model_module": "@jupyter-widgets/controls",
          "model_name": "ProgressStyleModel",
          "model_module_version": "1.5.0",
          "state": {
            "_model_module": "@jupyter-widgets/controls",
            "_model_module_version": "1.5.0",
            "_model_name": "ProgressStyleModel",
            "_view_count": null,
            "_view_module": "@jupyter-widgets/base",
            "_view_module_version": "1.2.0",
            "_view_name": "StyleView",
            "bar_color": null,
            "description_width": ""
          }
        },
        "04dcc7824ab14f3db7143f2fd9d5a145": {
          "model_module": "@jupyter-widgets/base",
          "model_name": "LayoutModel",
          "model_module_version": "1.2.0",
          "state": {
            "_model_module": "@jupyter-widgets/base",
            "_model_module_version": "1.2.0",
            "_model_name": "LayoutModel",
            "_view_count": null,
            "_view_module": "@jupyter-widgets/base",
            "_view_module_version": "1.2.0",
            "_view_name": "LayoutView",
            "align_content": null,
            "align_items": null,
            "align_self": null,
            "border": null,
            "bottom": null,
            "display": null,
            "flex": null,
            "flex_flow": null,
            "grid_area": null,
            "grid_auto_columns": null,
            "grid_auto_flow": null,
            "grid_auto_rows": null,
            "grid_column": null,
            "grid_gap": null,
            "grid_row": null,
            "grid_template_areas": null,
            "grid_template_columns": null,
            "grid_template_rows": null,
            "height": null,
            "justify_content": null,
            "justify_items": null,
            "left": null,
            "margin": null,
            "max_height": null,
            "max_width": null,
            "min_height": null,
            "min_width": null,
            "object_fit": null,
            "object_position": null,
            "order": null,
            "overflow": null,
            "overflow_x": null,
            "overflow_y": null,
            "padding": null,
            "right": null,
            "top": null,
            "visibility": null,
            "width": null
          }
        },
        "195798de52974665b5504c416b892130": {
          "model_module": "@jupyter-widgets/controls",
          "model_name": "DescriptionStyleModel",
          "model_module_version": "1.5.0",
          "state": {
            "_model_module": "@jupyter-widgets/controls",
            "_model_module_version": "1.5.0",
            "_model_name": "DescriptionStyleModel",
            "_view_count": null,
            "_view_module": "@jupyter-widgets/base",
            "_view_module_version": "1.2.0",
            "_view_name": "StyleView",
            "description_width": ""
          }
        }
      }
    }
  },
  "cells": [
    {
      "cell_type": "markdown",
      "source": [
        "# Building a Python Telegram bot backed by LLama\n",
        "\n"
      ],
      "metadata": {
        "id": "EFZ2mcij5bvT"
      }
    },
    {
      "cell_type": "markdown",
      "source": [
        "<center><img src='https://fastmail-resource.sewenthy.dev/public/misc/nushacknroll.png' width=\"1000\"></center>"
      ],
      "metadata": {
        "id": "-p4ojhPyaWse"
      }
    },
    {
      "cell_type": "markdown",
      "source": [
        "What if we could build something similar to your own chatgpt4, that can search the web, search for information in your documents, while using the nice interface that telegram offers?\n",
        "\n",
        "<iframe src=\"https://drive.google.com/file/d/1ykJfXT9kPNJsu43Oq_PakcMKi1pd76A2/preview\" width=\"640\" height=\"480\" allow=\"autoplay\"></iframe>"
      ],
      "metadata": {
        "id": "z6m5-5Fd5k7e"
      }
    },
    {
      "cell_type": "markdown",
      "source": [
        "## 🤖 The Telegram Bot"
      ],
      "metadata": {
        "id": "_Ct5kHmh6HyZ"
      }
    },
    {
      "cell_type": "markdown",
      "source": [
        "Telegram is a cool little app that you can use to chat with your friends. But did you know that you can also start conversations with bots? Those bots can complete a variety of tasks. Like for example creating polls, or joining zoom meeting.\n",
        "But you can also directly chat with bots to achieve a variety of tasks.\n",
        "\n",
        "Our first step will be to create our bot on the telegram side.\n",
        "\n",
        "- First, start a conversation with `@botfather` on telegram, which is the bot used to create and manage other bots.\n",
        "- Use the command `/newbot` to create a new bot, pick a name and an username for it and botfather will share with you the bot's token!"
      ],
      "metadata": {
        "id": "VhwKBYlN6QcP"
      }
    },
    {
      "cell_type": "markdown",
      "source": [
        "That token is very important, since it will be the only way to directly control the bot and reply to messages using the API. That means that the only thing we need to control our bot is to send HTTP requests to telegram servers! Everything that you can do with that token to control the bot is presented in the bot API reference (https://core.telegram.org/bots/api)"
      ],
      "metadata": {
        "id": "uI4Rp88e-X64"
      }
    },
    {
      "cell_type": "code",
      "source": [
        "%%capture\n",
        "!pip3 install pyTelegramBotAPI"
      ],
      "metadata": {
        "id": "Edm4_v2a-CO2"
      },
      "execution_count": null,
      "outputs": []
    },
    {
      "cell_type": "code",
      "execution_count": null,
      "metadata": {
        "cellView": "form",
        "id": "1Fp1a_uq5Qkl"
      },
      "outputs": [],
      "source": [
        "# @title ⚙️ Configure Telegram Token\n",
        "\n",
        "#Access your Gemini API key\n",
        "\n",
        "from google.colab import userdata\n",
        "import telebot\n",
        "\n",
        "telegram_bot_token = 'TELEGRAM_TOKEN'  # @param {type: \"string\"}\n",
        "\n",
        "try:\n",
        "  TELEGRAM_API_KEY=userdata.get(telegram_bot_token)\n",
        "  bot = telebot.TeleBot(TELEGRAM_API_KEY)\n",
        "  bot.get_me()\n",
        "except userdata.SecretNotFoundError as e:\n",
        "   print(f'Secret not found\\n\\nThis expects you to create a secret named {telegram_bot_token} in Colab\\n\\nMessage botfather on telegram to create a new bot and get that token\\n\\nStore that in the secrets section on the left side of the notebook (key icon)\\n\\nName the secret {telegram_bot_token}')\n",
        "   raise e\n",
        "except userdata.NotebookAccessError as e:\n",
        "  print(f'You need to grant this notebook access to the {telegram_bot_token} secret in order for the notebook to access your Telegram Bot on your behalf.')\n",
        "  raise e\n",
        "except Exception as e:\n",
        "  # unknown error\n",
        "  print(f\"There was an unknown error. Ensure you have a secret {telegram_bot_token} stored in Colab and it's a valid key from telegram\")\n",
        "  raise e"
      ]
    },
    {
      "cell_type": "markdown",
      "source": [
        "For example, to check if new messages for your bot are present, you make a HTTP request on the right endpoint (`getUpdates`).\n",
        "For that you will use the token that botfather gave you.\n",
        "Let's try it now! We will use the requests module to make an HTTP GET request to the following url.\n",
        "`https://api.telegram.org/bot<YOURTOKEN>/getUpdates`"
      ],
      "metadata": {
        "id": "MEHb0-xdF7SH"
      }
    },
    {
      "cell_type": "code",
      "source": [
        "%%capture\n",
        "!pip3 install requests"
      ],
      "metadata": {
        "id": "1DO7PySPGMY2"
      },
      "execution_count": null,
      "outputs": []
    },
    {
      "cell_type": "code",
      "source": [
        "import requests\n",
        "\n",
        "url = f\"https://api.telegram.org/bot{userdata.get(telegram_bot_token)}/getUpdates\"\n",
        "response = requests.get(url)\n",
        "\n",
        "print(\"Status Code:\", response.status_code)\n",
        "print(\"Response Content:\", response.content)"
      ],
      "metadata": {
        "id": "UvQXAgxaHLzW",
        "colab": {
          "base_uri": "https://localhost:8080/"
        },
        "outputId": "0babff25-4478-406b-bd01-1bfbe6bb3c3b"
      },
      "execution_count": null,
      "outputs": [
        {
          "output_type": "stream",
          "name": "stdout",
          "text": [
            "Status Code: 200\n",
            "Response Content: b'{\"ok\":true,\"result\":[{\"update_id\":701092713,\\n\"message\":{\"message_id\":1,\"from\":{\"id\":1061810735,\"is_bot\":false,\"first_name\":\"Eldon\",\"username\":\"eldon114\",\"language_code\":\"en\"},\"chat\":{\"id\":1061810735,\"first_name\":\"Eldon\",\"username\":\"eldon114\",\"type\":\"private\"},\"date\":1712384343,\"text\":\"/start\",\"entities\":[{\"offset\":0,\"length\":6,\"type\":\"bot_command\"}]}},{\"update_id\":701092714,\\n\"message\":{\"message_id\":2,\"from\":{\"id\":1061810735,\"is_bot\":false,\"first_name\":\"Eldon\",\"username\":\"eldon114\",\"language_code\":\"en\"},\"chat\":{\"id\":1061810735,\"first_name\":\"Eldon\",\"username\":\"eldon114\",\"type\":\"private\"},\"date\":1712384382,\"text\":\"hi\"}}]}'\n"
          ]
        }
      ]
    },
    {
      "cell_type": "markdown",
      "source": [
        "Since your bot has just been created, no new messages are present. Now try to start a new conversation with your bot on telegram. That should automatically send the `/start` command. Let's run the same code again."
      ],
      "metadata": {
        "id": "oVgR8iadH7cw"
      }
    },
    {
      "cell_type": "code",
      "source": [
        "response = requests.get(url)\n",
        "\n",
        "print(\"Status Code:\", response.status_code)\n",
        "print(\"Response Content Text:\", response.content)"
      ],
      "metadata": {
        "id": "Ccc_EWYdIUUK",
        "colab": {
          "base_uri": "https://localhost:8080/"
        },
        "outputId": "ad9cfd69-eb5e-4bb3-9625-2d726a49624f"
      },
      "execution_count": null,
      "outputs": [
        {
          "output_type": "stream",
          "name": "stdout",
          "text": [
            "Status Code: 200\n",
            "Response Content Text: b'{\"ok\":true,\"result\":[{\"update_id\":701092713,\\n\"message\":{\"message_id\":1,\"from\":{\"id\":1061810735,\"is_bot\":false,\"first_name\":\"Eldon\",\"username\":\"eldon114\",\"language_code\":\"en\"},\"chat\":{\"id\":1061810735,\"first_name\":\"Eldon\",\"username\":\"eldon114\",\"type\":\"private\"},\"date\":1712384343,\"text\":\"/start\",\"entities\":[{\"offset\":0,\"length\":6,\"type\":\"bot_command\"}]}},{\"update_id\":701092714,\\n\"message\":{\"message_id\":2,\"from\":{\"id\":1061810735,\"is_bot\":false,\"first_name\":\"Eldon\",\"username\":\"eldon114\",\"language_code\":\"en\"},\"chat\":{\"id\":1061810735,\"first_name\":\"Eldon\",\"username\":\"eldon114\",\"type\":\"private\"},\"date\":1712384382,\"text\":\"hi\"}}]}'\n"
          ]
        }
      ]
    },
    {
      "cell_type": "markdown",
      "source": [
        "Nice! We are able to get new messages from our bot. There has to be one endpoint that we should be able to use to reply to that message. However, we are lazy, no one want to check by hand for new messages. We can make use a library that the community has already written in Python, to abstract all of these API calls away from us, so that we can focus on building the features of the bot."
      ],
      "metadata": {
        "id": "Zq8bwnrf-k6z"
      }
    },
    {
      "cell_type": "markdown",
      "source": [
        "## 🐍 Using the `pyTelegramBotAPI` library"
      ],
      "metadata": {
        "id": "X1g3EE8BJ-Zu"
      }
    },
    {
      "cell_type": "markdown",
      "source": [
        "Python is this little language you might have heard of if you are into computer science, it started out as a small interpreted programming language, but is now powering the backend of a lot of website, is heavily used for data science thanks to `numpy` and `scikit-learn`, and has become the main language that researchers use for training deep learning, or AI models.\n",
        "As you probably already know, this notbook can run python code.\n",
        "\n",
        "Now let us install the package that we need for building our telegram bot. We will need the `pyTelegramBotAPI` package.\n",
        "We actually already ran that command earlier, because we needed it to verify that the TOKEN that you added to the this notebook secrets was valid\n",
        "```bash\n",
        "➜ pip3 install pyTelegramBotAPI\n",
        "```\n"
      ],
      "metadata": {
        "id": "oP2Zyt0G0kmt"
      }
    },
    {
      "cell_type": "markdown",
      "source": [
        "And that's it! Not let us create the bot itself.\n",
        "We will need to import the `telebot` module."
      ],
      "metadata": {
        "id": "w-9cqVbj1Q1d"
      }
    },
    {
      "cell_type": "code",
      "source": [
        "import telebot\n",
        "\n",
        "BOT_TOKEN = userdata.get(telegram_bot_token)\n",
        "bot = telebot.TeleBot(BOT_TOKEN)"
      ],
      "metadata": {
        "id": "1bzk90f31RRK"
      },
      "execution_count": null,
      "outputs": []
    },
    {
      "cell_type": "markdown",
      "source": [
        "\n",
        "Now that we created our bot, we need two things:\n",
        "1. A function that will be called on each new message\n",
        "2. A way to get new messages\n",
        "\n",
        "We will first declare the two following function. Each telegram bot needs to have the `/start` command. The first function will simply send a message  when the users inputs `/start`. The second one is slightly more complex, it will simply reply to each message that is received by the bot with the same message."
      ],
      "metadata": {
        "id": "OKXUHN-G1lAf"
      }
    },
    {
      "cell_type": "code",
      "source": [
        "@bot.message_handler(commands=['start'])\n",
        "def on_start(message):\n",
        "    bot.send_message(message.chat.id, \"Beep, boop, starting bot...\")\n",
        "\n",
        "@bot.message_handler(func=lambda msg: True)\n",
        "def on_message(message):\n",
        "\tbot.reply_to(message, message.text)"
      ],
      "metadata": {
        "id": "JOsujpPv1m_d"
      },
      "execution_count": null,
      "outputs": []
    },
    {
      "cell_type": "markdown",
      "source": [
        "\n",
        "Finally, we need to start the bot by checking periodically for new messages, and executing one of those two functions depending on the contents of the message.\n",
        "\n",
        "This is automatically done by the `bot.infinity_polling()` function.\n",
        "\n",
        "Based on the `@bot.message_handler` decorators, it will call the correct function when a new message is received.\n",
        "\n",
        "Lets put everything together into one `init_bot` function."
      ],
      "metadata": {
        "id": "8272w1z81rPz"
      }
    },
    {
      "cell_type": "code",
      "source": [
        "def init_bot():\n",
        "  BOT_TOKEN = userdata.get(telegram_bot_token)\n",
        "  bot = telebot.TeleBot(BOT_TOKEN)\n",
        "\n",
        "  @bot.message_handler(commands=['start'])\n",
        "  def on_start(message):\n",
        "      bot.send_message(message.chat.id, \"Beep, boop, starting bot...\")\n",
        "\n",
        "  @bot.message_handler(func=lambda msg: True)\n",
        "  def on_message(message):\n",
        "    bot.reply_to(message, message.text)\n",
        "\n",
        "  return bot"
      ],
      "metadata": {
        "id": "3_OCki-oRHhK"
      },
      "execution_count": null,
      "outputs": []
    },
    {
      "cell_type": "markdown",
      "source": [
        "We can now test our bot! Start your bot by running the next cell, and you can now send messages on telegram to check that everything is working well."
      ],
      "metadata": {
        "id": "FwnpG6YgWb-g"
      }
    },
    {
      "cell_type": "code",
      "source": [
        "bot = init_bot()\n",
        "bot.infinity_polling()"
      ],
      "metadata": {
        "id": "kHwoBAIUKFDQ",
        "colab": {
          "base_uri": "https://localhost:8080/"
        },
        "outputId": "295f2692-d159-4c66-e7b8-86ef51302875"
      },
      "execution_count": null,
      "outputs": [
        {
          "output_type": "stream",
          "name": "stderr",
          "text": [
            "2024-04-06 06:22:55,978 (__init__.py:1027 MainThread) ERROR - TeleBot: \"Infinity polling: polling exited\"\n",
            "ERROR:TeleBot:Infinity polling: polling exited\n",
            "2024-04-06 06:22:55,981 (__init__.py:1029 MainThread) ERROR - TeleBot: \"Break infinity polling\"\n",
            "ERROR:TeleBot:Break infinity polling\n"
          ]
        }
      ]
    },
    {
      "cell_type": "markdown",
      "source": [
        "<center><img src='https://drive.google.com/uc?id=1xLoNveK1XoddmCOJkJ4VTk4R87tKOs8n' width=\"400\"></center>\n",
        "🎉"
      ],
      "metadata": {
        "id": "mMv9OXqG2SrT"
      }
    },
    {
      "cell_type": "markdown",
      "source": [
        "## 🤗 LLMs and HuggingFace"
      ],
      "metadata": {
        "id": "zH6nHQUQ3Mgm"
      }
    },
    {
      "cell_type": "markdown",
      "source": [
        "Lets now make the LLM part of the bot.\n",
        "\n",
        "We have a couple of options, as to what we can do. We could:\n",
        "- Use OpenAI API, to directly access GPT3.5 or GPT4, but every token would cost us money (for your project it might be good to use OpenAI)\n",
        "- Use a model hosted locally, directly on your computer, but even for smaller models, the weights will not necessarily fit on a computer with limited ram\n",
        "- Use the free 🤗 Hugging Face [Inference API](https://huggingface.co/inference-api), that allow us to play with OpenSource language models hosted on the platform\n",
        "\n",
        "We will go for option 3. If you have ever heard of GitHub, HuggingFace is supposed to be the GitHub of AI, where you can find models architectures, model weights and datasets. If everything does not make sense to you that's okay, we are only going to use those models for inference, so we do not need to know every detail.\n",
        "\n",
        "The model we will use is Mistral7B Instruct https://huggingface.co/mistralai/Mistral-7B-Instruct-v0.2.\n",
        "Its a very popular model that was trained by the company MistralAI, has 7 Billion parameters, and has been finetuned to be used as a chat assistant model.\n",
        "\n",
        "In order to use the free HuggingFace inference API, you need a HuggingFace account, and once again, an API token to be able to use their API.\n",
        "To get one go to `Settings > Access Tokens > New Token > Role = write`.\n",
        "Then copy the generated token, we will use it in the python code that we will be writing."
      ],
      "metadata": {
        "id": "8aNlo1O-8vkL"
      }
    },
    {
      "cell_type": "code",
      "source": [
        "# @title ⚙️ Configure Hugging Face Token\n",
        "\n",
        "from google.colab import userdata\n",
        "\n",
        "hugging_face_token_secret = 'HF_TOKEN'  # @param {type: \"string\"}\n",
        "\n",
        "try:\n",
        "  TELEGRAM_API_KEY=userdata.get(hugging_face_token_secret)\n",
        "except userdata.SecretNotFoundError as e:\n",
        "   print(f'Secret not found\\n\\nThis expects you to create a secret named {hugging_face_token_secret} in Colab\\n\\nGot to that url and create a write token (https://huggingface.co/settings/tokens)\\n\\nStore that in the secrets section on the left side of the notebook (key icon)\\n\\nName the secret {hugging_face_token_secret}')\n",
        "   raise e\n",
        "except userdata.NotebookAccessError as e:\n",
        "  print(f'You need to grant this notebook access to the {hugging_face_token_secret} secret in order for the notebook to access your Telegram Bot on your behalf.')\n",
        "  raise e\n",
        "except Exception as e:\n",
        "  # unknown error\n",
        "  print(f\"There was an unknown error. Ensure you have a secret {hugging_face_token_secret} stored in Colab and it's a valid key from telegram\")\n",
        "  raise e"
      ],
      "metadata": {
        "cellView": "form",
        "id": "5btOmm7V8wf0"
      },
      "execution_count": null,
      "outputs": []
    },
    {
      "cell_type": "markdown",
      "source": [
        "We will not be using the HuggingFace inference API directly, for that we will make use of LangChain (https://www.langchain.com), which is a very popular framework for using and interfacing LLMs with other things in Python (more on that later).\n",
        "We will also need the transformers library from huggingface, for things like saving chat history."
      ],
      "metadata": {
        "id": "joOLQ2Qd90Yq"
      }
    },
    {
      "cell_type": "code",
      "source": [
        "%%capture\n",
        "!pip3 install langchain transformers"
      ],
      "metadata": {
        "id": "Et09j0hH93UC"
      },
      "execution_count": null,
      "outputs": []
    },
    {
      "cell_type": "markdown",
      "source": [
        "### Creating the LLM class\n",
        "\n",
        "First add those imports, and that line to retrieve your hugging face token at the start of the script."
      ],
      "metadata": {
        "id": "l04ahCmz-N8W"
      }
    },
    {
      "cell_type": "code",
      "source": [
        "import os\n",
        "from langchain_community.llms import HuggingFaceHub\n",
        "\n",
        "os.environ[\"HUGGINGFACEHUB_API_TOKEN\"] = userdata.get(hugging_face_token_secret)"
      ],
      "metadata": {
        "id": "DRkEyama-SRZ"
      },
      "execution_count": null,
      "outputs": []
    },
    {
      "cell_type": "markdown",
      "source": [
        "\n",
        "We will be using a class for the LLM, so that all the information related to it is stored in that class. The first step is to initialize the [model](https://huggingface.co/mistralai/Mistral-7B-Instruct-v0.2). As stated previously, we are using the HuggingFace inference API to run our model."
      ],
      "metadata": {
        "id": "d3cpLa4l-w7T"
      }
    },
    {
      "cell_type": "code",
      "source": [
        "class LLM:\n",
        "  def __init__(self):\n",
        "    model_string = \"mistralai/Mistral-7B-Instruct-v0.2\"\n",
        "    self.chat = []\n",
        "    self.llm = HuggingFaceHub(repo_id=model_string, model_kwargs={\"temperature\": 0.5, \"max_length\":64,\"max_new_tokens\":512})\n",
        "\n",
        "  def get_reply(self, instruction):\n",
        "    return self.llm.invoke(instruction)"
      ],
      "metadata": {
        "id": "oUxYnJP--x0T"
      },
      "execution_count": null,
      "outputs": []
    },
    {
      "cell_type": "markdown",
      "source": [
        "The first function is called on instantiation of the class, and creates the llm by using HuggingFaceHub, with the model we decided to use for inference.\n",
        "\n",
        "We can now instantiate the class, add the following line below your class declaration."
      ],
      "metadata": {
        "id": "2gbn92HPAtpQ"
      }
    },
    {
      "cell_type": "code",
      "source": [
        "llm = LLM()"
      ],
      "metadata": {
        "id": "BPqb1STBBBkI",
        "colab": {
          "base_uri": "https://localhost:8080/"
        },
        "outputId": "a300919e-5427-4f89-93db-2f5ae32a7339"
      },
      "execution_count": null,
      "outputs": [
        {
          "output_type": "stream",
          "name": "stderr",
          "text": [
            "/usr/local/lib/python3.10/dist-packages/langchain_core/_api/deprecation.py:117: LangChainDeprecationWarning: The class `langchain_community.llms.huggingface_hub.HuggingFaceHub` was deprecated in langchain-community 0.0.21 and will be removed in 0.2.0. Use HuggingFaceEndpoint instead.\n",
            "  warn_deprecated(\n"
          ]
        }
      ]
    },
    {
      "cell_type": "markdown",
      "source": [
        "Now, instead of replying back with the same message that got sent to us when we receive a new message, we can send it to the LLM, which should give us a reply to our question! For that we only have to change the following line."
      ],
      "metadata": {
        "id": "1rVAsbabBBNN"
      }
    },
    {
      "cell_type": "code",
      "source": [
        "def init_bot():\n",
        "  bot = telebot.TeleBot(BOT_TOKEN)\n",
        "\n",
        "  @bot.message_handler(commands=['start'])\n",
        "  def on_start(message):\n",
        "      bot.send_message(message.chat.id, \"Beep, boop, starting bot...\")\n",
        "\n",
        "  @bot.message_handler(func=lambda msg: True)\n",
        "  def on_message(message):\n",
        "      print(f\"Message received! {message}\")\n",
        "      reply = llm.get_reply(message.text)\n",
        "      bot.reply_to(message, reply)\n",
        "\n",
        "  return bot"
      ],
      "metadata": {
        "id": "_qsmNd_qBJdx"
      },
      "execution_count": null,
      "outputs": []
    },
    {
      "cell_type": "markdown",
      "source": [
        "Let's test it!"
      ],
      "metadata": {
        "id": "d1feasRtBWPg"
      }
    },
    {
      "cell_type": "code",
      "source": [
        "bot = init_bot()\n",
        "bot.infinity_polling()"
      ],
      "metadata": {
        "id": "hpmWJgvdBU1P",
        "colab": {
          "base_uri": "https://localhost:8080/"
        },
        "outputId": "67eac733-16a7-4cd5-9c29-89f10f950aab"
      },
      "execution_count": null,
      "outputs": [
        {
          "output_type": "stream",
          "name": "stdout",
          "text": [
            "Message received! {'content_type': 'text', 'id': 7, 'message_id': 7, 'from_user': {'id': 1061810735, 'is_bot': False, 'first_name': 'Eldon', 'username': 'eldon114', 'last_name': None, 'language_code': 'en', 'can_join_groups': None, 'can_read_all_group_messages': None, 'supports_inline_queries': None, 'is_premium': None, 'added_to_attachment_menu': None}, 'date': 1712384824, 'chat': {'id': 1061810735, 'type': 'private', 'title': None, 'username': 'eldon114', 'first_name': 'Eldon', 'last_name': None, 'is_forum': None, 'photo': None, 'bio': None, 'join_to_send_messages': None, 'join_by_request': None, 'has_private_forwards': None, 'has_restricted_voice_and_video_messages': None, 'description': None, 'invite_link': None, 'pinned_message': None, 'permissions': None, 'slow_mode_delay': None, 'message_auto_delete_time': None, 'has_protected_content': None, 'sticker_set_name': None, 'can_set_sticker_set': None, 'linked_chat_id': None, 'location': None, 'active_usernames': None, 'emoji_status_custom_emoji_id': None, 'has_hidden_members': None, 'has_aggressive_anti_spam_enabled': None, 'emoji_status_expiration_date': None, 'available_reactions': None, 'accent_color_id': None, 'background_custom_emoji_id': None, 'profile_accent_color_id': None, 'profile_background_custom_emoji_id': None, 'has_visible_history': None, 'unrestrict_boost_count': None, 'custom_emoji_sticker_set_name': None}, 'sender_chat': None, 'is_automatic_forward': None, 'reply_to_message': None, 'via_bot': None, 'edit_date': None, 'has_protected_content': None, 'media_group_id': None, 'author_signature': None, 'text': 'what is mrt', 'entities': None, 'caption_entities': None, 'audio': None, 'document': None, 'photo': None, 'sticker': None, 'video': None, 'video_note': None, 'voice': None, 'caption': None, 'contact': None, 'location': None, 'venue': None, 'animation': None, 'dice': None, 'new_chat_members': None, 'left_chat_member': None, 'new_chat_title': None, 'new_chat_photo': None, 'delete_chat_photo': None, 'group_chat_created': None, 'supergroup_chat_created': None, 'channel_chat_created': None, 'migrate_to_chat_id': None, 'migrate_from_chat_id': None, 'pinned_message': None, 'invoice': None, 'successful_payment': None, 'connected_website': None, 'reply_markup': None, 'message_thread_id': None, 'is_topic_message': None, 'forum_topic_created': None, 'forum_topic_closed': None, 'forum_topic_reopened': None, 'has_media_spoiler': None, 'forum_topic_edited': None, 'general_forum_topic_hidden': None, 'general_forum_topic_unhidden': None, 'write_access_allowed': None, 'users_shared': None, 'chat_shared': None, 'story': None, 'external_reply': None, 'quote': None, 'link_preview_options': None, 'giveaway_created': None, 'giveaway': None, 'giveaway_winners': None, 'giveaway_completed': None, 'forward_origin': None, 'boost_added': None, 'sender_boost_count': None, 'reply_to_story': None, 'json': {'message_id': 7, 'from': {'id': 1061810735, 'is_bot': False, 'first_name': 'Eldon', 'username': 'eldon114', 'language_code': 'en'}, 'chat': {'id': 1061810735, 'first_name': 'Eldon', 'username': 'eldon114', 'type': 'private'}, 'date': 1712384824, 'text': 'what is mrt'}}\n",
            "Message received! {'content_type': 'text', 'id': 9, 'message_id': 9, 'from_user': {'id': 1061810735, 'is_bot': False, 'first_name': 'Eldon', 'username': 'eldon114', 'last_name': None, 'language_code': 'en', 'can_join_groups': None, 'can_read_all_group_messages': None, 'supports_inline_queries': None, 'is_premium': None, 'added_to_attachment_menu': None}, 'date': 1712384848, 'chat': {'id': 1061810735, 'type': 'private', 'title': None, 'username': 'eldon114', 'first_name': 'Eldon', 'last_name': None, 'is_forum': None, 'photo': None, 'bio': None, 'join_to_send_messages': None, 'join_by_request': None, 'has_private_forwards': None, 'has_restricted_voice_and_video_messages': None, 'description': None, 'invite_link': None, 'pinned_message': None, 'permissions': None, 'slow_mode_delay': None, 'message_auto_delete_time': None, 'has_protected_content': None, 'sticker_set_name': None, 'can_set_sticker_set': None, 'linked_chat_id': None, 'location': None, 'active_usernames': None, 'emoji_status_custom_emoji_id': None, 'has_hidden_members': None, 'has_aggressive_anti_spam_enabled': None, 'emoji_status_expiration_date': None, 'available_reactions': None, 'accent_color_id': None, 'background_custom_emoji_id': None, 'profile_accent_color_id': None, 'profile_background_custom_emoji_id': None, 'has_visible_history': None, 'unrestrict_boost_count': None, 'custom_emoji_sticker_set_name': None}, 'sender_chat': None, 'is_automatic_forward': None, 'reply_to_message': None, 'via_bot': None, 'edit_date': None, 'has_protected_content': None, 'media_group_id': None, 'author_signature': None, 'text': 'what is the symbol of singapore', 'entities': None, 'caption_entities': None, 'audio': None, 'document': None, 'photo': None, 'sticker': None, 'video': None, 'video_note': None, 'voice': None, 'caption': None, 'contact': None, 'location': None, 'venue': None, 'animation': None, 'dice': None, 'new_chat_members': None, 'left_chat_member': None, 'new_chat_title': None, 'new_chat_photo': None, 'delete_chat_photo': None, 'group_chat_created': None, 'supergroup_chat_created': None, 'channel_chat_created': None, 'migrate_to_chat_id': None, 'migrate_from_chat_id': None, 'pinned_message': None, 'invoice': None, 'successful_payment': None, 'connected_website': None, 'reply_markup': None, 'message_thread_id': None, 'is_topic_message': None, 'forum_topic_created': None, 'forum_topic_closed': None, 'forum_topic_reopened': None, 'has_media_spoiler': None, 'forum_topic_edited': None, 'general_forum_topic_hidden': None, 'general_forum_topic_unhidden': None, 'write_access_allowed': None, 'users_shared': None, 'chat_shared': None, 'story': None, 'external_reply': None, 'quote': None, 'link_preview_options': None, 'giveaway_created': None, 'giveaway': None, 'giveaway_winners': None, 'giveaway_completed': None, 'forward_origin': None, 'boost_added': None, 'sender_boost_count': None, 'reply_to_story': None, 'json': {'message_id': 9, 'from': {'id': 1061810735, 'is_bot': False, 'first_name': 'Eldon', 'username': 'eldon114', 'language_code': 'en'}, 'chat': {'id': 1061810735, 'first_name': 'Eldon', 'username': 'eldon114', 'type': 'private'}, 'date': 1712384848, 'text': 'what is the symbol of singapore'}}\n"
          ]
        },
        {
          "output_type": "stream",
          "name": "stderr",
          "text": [
            "2024-04-06 06:28:33,684 (__init__.py:1027 MainThread) ERROR - TeleBot: \"Infinity polling: polling exited\"\n",
            "ERROR:TeleBot:Infinity polling: polling exited\n",
            "2024-04-06 06:28:33,688 (__init__.py:1029 MainThread) ERROR - TeleBot: \"Break infinity polling\"\n",
            "ERROR:TeleBot:Break infinity polling\n"
          ]
        }
      ]
    },
    {
      "cell_type": "markdown",
      "source": [
        "<center><img src='https://drive.google.com/uc?id=1khyxnxGZu_wLi_uo0y4XS10BR7Jixlca' width=\"400\"></center>"
      ],
      "metadata": {
        "id": "FGUCpneXEpTP"
      }
    },
    {
      "cell_type": "markdown",
      "source": [
        "\n",
        "Seems to work, except that the model added a question mark, since I forgot to have it in my message. This is a good reminder that, at the end of the day, large language models only job is to predict what would be the next words, given an initial prompt. In order to circumvent that, we need to change our input to the model, our prompt, to make use of the same format that was used when finetuning the model.\n",
        "\n",
        "Another problem is that the model does not seem to have any memory, if I send a message referencing the previous question, the output is not what I want.\n",
        "\n",
        "<center><img src='https://drive.google.com/uc?id=1O8QFMWrMWIDcTg9cZxk9S38QYxce96k3' width=\"400\"></center>\n",
        "\n",
        "\n",
        "\n",
        "Thankfully, we can simply use the 🤗 `transformers` library, which contains all the functions that we need."
      ],
      "metadata": {
        "id": "MjialFGJBSuc"
      }
    },
    {
      "cell_type": "markdown",
      "source": [
        "### Making it handle conversations\n",
        "\n",
        "In order to really be able to chat with model, we need to store the chat history.\n",
        "That way, we will be able to refer to messages previously sent in the chat.\n",
        "When creating the class, you can see that I already created an empty list `self.chat = []`.\n",
        "This list will contain all the questions and replies that have been sent and received during the chat.\n",
        "\n",
        "Another thing we need to do is to tokenize that chat history. This means transforming it into a format that the model understands.\n",
        "\n",
        "To do that, we will use the `transformers` library.\n",
        "The format for that list is quite simple.\n",
        "\n",
        "```python\n",
        "[\n",
        "   {\"role\" : \"user\", \"content\" : \"Initial question\"},\n",
        "   {\"role\" : \"assistant\", \"content\" : \"Reply\"},\n",
        "   {\"role\" : \"user\", \"content\" : \"New question\"},\n",
        "   {\"role\" : \"assistant\", \"content\" : \"Reply 2\"},\n",
        "   ...\n",
        "]\n",
        "```\n",
        "\n",
        "So now, what we need is to save every message that is sent by the user, as well as every response from the model into that list.\n",
        "\n",
        "We can simply modify the `get_reply` function."
      ],
      "metadata": {
        "id": "3k6lRDYCFLVU"
      }
    },
    {
      "cell_type": "code",
      "source": [
        "class LLM:\n",
        "  def __init__(self):\n",
        "    model_string = \"mistralai/Mistral-7B-Instruct-v0.2\"\n",
        "    self.chat = []\n",
        "    self.llm = HuggingFaceHub(repo_id=model_string, model_kwargs={\"temperature\": 0.5, \"max_length\":64,\"max_new_tokens\":512})\n",
        "\n",
        "  def get_reply(self, instruction):\n",
        "    self.chat.append({\"role\" : \"user\", \"content\" : instruction})\n",
        "\n",
        "    reply = self.llm.invoke(instruction)\n",
        "    self.chat.append({\"role\" : \"assistant\", \"content\" : reply})\n",
        "    return reply"
      ],
      "metadata": {
        "id": "vQig6QbOG9kz"
      },
      "execution_count": null,
      "outputs": []
    },
    {
      "cell_type": "markdown",
      "source": [
        "Great, we are now saving the chat history with each new message that we receive. The next step is to use that chat history for the prompt that is sent to the llm.\n",
        "\n",
        "> Note: This bot only supports one conversation with one message being sent at a time.\n",
        "\n",
        "For that we will have to use `AutoTokenizer` from the `transformers` library."
      ],
      "metadata": {
        "id": "KTzHmFh_H1tO"
      }
    },
    {
      "cell_type": "code",
      "source": [
        "from transformers import AutoTokenizer"
      ],
      "metadata": {
        "id": "i9KWbM484uVQ"
      },
      "execution_count": null,
      "outputs": []
    },
    {
      "cell_type": "code",
      "source": [
        "class LLM:\n",
        "  def __init__(self):\n",
        "    model_string = \"mistralai/Mistral-7B-Instruct-v0.2\"\n",
        "    self.chat = []\n",
        "    self.llm = HuggingFaceHub(repo_id=model_string, model_kwargs={\"temperature\": 0.5, \"max_length\":64,\"max_new_tokens\":512})\n",
        "    self.tokenizer = AutoTokenizer.from_pretrained(model_string)\n",
        "\n",
        "  def get_reply(self, instruction):\n",
        "    self.chat.append({\"role\" : \"user\", \"content\" : instruction})\n",
        "\n",
        "    prompt = self.tokenizer.apply_chat_template(self.chat, tokenize=False)\n",
        "    print(prompt)\n",
        "    reply = self.llm.invoke(prompt)[len(prompt):]\n",
        "    print(reply)\n",
        "    self.chat.append({\"role\" : \"assistant\", \"content\" : reply})\n",
        "    return reply"
      ],
      "metadata": {
        "id": "djVUjj-QIl0Q"
      },
      "execution_count": null,
      "outputs": []
    },
    {
      "cell_type": "code",
      "source": [
        "llm = LLM()"
      ],
      "metadata": {
        "id": "UKnXKslxIsNR",
        "outputId": "13571f5e-ef6c-4405-9a26-8cffdbc1e8e4",
        "colab": {
          "base_uri": "https://localhost:8080/",
          "height": 145,
          "referenced_widgets": [
            "ada05a70e5f64857bda1df36ba698e04",
            "72cbf7199d364c5182012546a76caae3",
            "8f978e46c33d4430b85c0d936a3b3c1f",
            "84712915648142c9a3dbba366ad22596",
            "f2701590a57e445d8717fa7db55e49e1",
            "3045359517024d7bbb8366e1e2bd8a08",
            "1dfa3364075e4ac085214c2a3af20d4e",
            "514c495399bb473899072c161409b6e2",
            "57df228008b84519a6925ef2ef98cf7c",
            "30c4e60734d34cfd8169333068deb62d",
            "4b3de33e362e475a9d72ecd5e1b6de83",
            "314fa9fd4d6c453fa2c3ba2d1e646d02",
            "4fcab14a6a1d43859c399296680dc54f",
            "bba8d3de1faa4ecd9632c606a5522e91",
            "1052a9b7e90047f2919b01323b212a4c",
            "b7016e9703e14afc8e45b2936a59d1fb",
            "835b3c5bbef243ef9bdf7132b4770e50",
            "658a2db39b4249e090819b5ce4079545",
            "7fe2f8f6b32d4a6ea0733d0ff2776c0f",
            "15ac2e37b0ad48d585844474f55b030f",
            "c523227eb64242b8850f8a2bb6623b3a",
            "1645ddecbbad4e35a8c4593d418e81fd",
            "48e4645bcbee446893fca34988a98c7d",
            "6e5d9790e27840aca45308e64e914098",
            "fe7940000a6b41cea594127d61eb3cf5",
            "d61aab3882684e7aa95020cede9f0526",
            "11f2a0379f144fb2af617ec706e0640f",
            "86a9efb89c404d0abacb1400fa969830",
            "a5a69dfc6a13433e8f3cb4d48a8ced66",
            "cfd782bc47c44e87937aeb95140b827d",
            "394e0ece60e64d59b012e5e63e5650a6",
            "8e59f7bb078445cc83a97edc182e2fc7",
            "529ed2a946e7427ca365724cdeccb537",
            "5003041975254aa18057de3edf93fec6",
            "5b4a39dec93347918b737d9359316e2e",
            "43a0eea931e24720ba4fddacc4ddc80b",
            "bbf229c0f7e046959882d0aeaf23f8a0",
            "29697f0631cd4c388ddbbacec5f5b318",
            "3f8b07028ae943feb4c635054215fd78",
            "78bed260c7c545c8bef5678f6bdc09d9",
            "1dff89254571458cb48b3b8aeff90273",
            "a14565a3d50a427b8cb9aa9e971edd7c",
            "04dcc7824ab14f3db7143f2fd9d5a145",
            "195798de52974665b5504c416b892130"
          ]
        }
      },
      "execution_count": null,
      "outputs": [
        {
          "output_type": "display_data",
          "data": {
            "text/plain": [
              "tokenizer_config.json:   0%|          | 0.00/1.46k [00:00<?, ?B/s]"
            ],
            "application/vnd.jupyter.widget-view+json": {
              "version_major": 2,
              "version_minor": 0,
              "model_id": "ada05a70e5f64857bda1df36ba698e04"
            }
          },
          "metadata": {}
        },
        {
          "output_type": "display_data",
          "data": {
            "text/plain": [
              "tokenizer.model:   0%|          | 0.00/493k [00:00<?, ?B/s]"
            ],
            "application/vnd.jupyter.widget-view+json": {
              "version_major": 2,
              "version_minor": 0,
              "model_id": "314fa9fd4d6c453fa2c3ba2d1e646d02"
            }
          },
          "metadata": {}
        },
        {
          "output_type": "display_data",
          "data": {
            "text/plain": [
              "tokenizer.json:   0%|          | 0.00/1.80M [00:00<?, ?B/s]"
            ],
            "application/vnd.jupyter.widget-view+json": {
              "version_major": 2,
              "version_minor": 0,
              "model_id": "48e4645bcbee446893fca34988a98c7d"
            }
          },
          "metadata": {}
        },
        {
          "output_type": "display_data",
          "data": {
            "text/plain": [
              "special_tokens_map.json:   0%|          | 0.00/72.0 [00:00<?, ?B/s]"
            ],
            "application/vnd.jupyter.widget-view+json": {
              "version_major": 2,
              "version_minor": 0,
              "model_id": "5003041975254aa18057de3edf93fec6"
            }
          },
          "metadata": {}
        }
      ]
    },
    {
      "cell_type": "markdown",
      "source": [
        "Now, our bot should be a able to recall previous messages, since we are sending the whole conversation to the LLM each time we ask a question."
      ],
      "metadata": {
        "id": "xbcvpLDcLfIv"
      }
    },
    {
      "cell_type": "markdown",
      "source": [
        "Lets also create a short command that creates a new chat. For that we simply have to make the chat history list empty."
      ],
      "metadata": {
        "id": "hsyzTk0ALs6h"
      }
    },
    {
      "cell_type": "code",
      "source": [
        "def init_bot():\n",
        "  bot = telebot.TeleBot(BOT_TOKEN)\n",
        "\n",
        "  @bot.message_handler(commands=['start'])\n",
        "  def on_start(message):\n",
        "      bot.send_message(message.chat.id, \"Beep, boop, starting bot...\")\n",
        "\n",
        "  @bot.message_handler(commands=['newchat'])\n",
        "  def on_new_chat(message):\n",
        "    llm.chat = []\n",
        "    bot.reply_to(message, \"Starting new chat!\")\n",
        "\n",
        "  @bot.message_handler(func=lambda msg: True)\n",
        "  def on_message(message):\n",
        "      print(f\"Message received! {message}\")\n",
        "      reply = llm.get_reply(message.text)\n",
        "      print(message.text)\n",
        "      print(reply)\n",
        "      bot.reply_to(message, reply)\n",
        "\n",
        "  return bot"
      ],
      "metadata": {
        "id": "P47iBKGEMp-f"
      },
      "execution_count": null,
      "outputs": []
    },
    {
      "cell_type": "markdown",
      "source": [
        "Now lets try!"
      ],
      "metadata": {
        "id": "gNHRzvC0Obfo"
      }
    },
    {
      "cell_type": "code",
      "source": [
        "bot = init_bot()\n",
        "llm.chat = []\n",
        "bot.infinity_polling()"
      ],
      "metadata": {
        "id": "A8pmn8J_JWg7",
        "colab": {
          "base_uri": "https://localhost:8080/"
        },
        "outputId": "c8d55be6-ac4f-4820-a86d-43ab9ee81885"
      },
      "execution_count": null,
      "outputs": [
        {
          "output_type": "stream",
          "name": "stdout",
          "text": [
            "Message received! {'content_type': 'text', 'id': 11, 'message_id': 11, 'from_user': {'id': 1061810735, 'is_bot': False, 'first_name': 'Eldon', 'username': 'eldon114', 'last_name': None, 'language_code': 'en', 'can_join_groups': None, 'can_read_all_group_messages': None, 'supports_inline_queries': None, 'is_premium': None, 'added_to_attachment_menu': None}, 'date': 1712384947, 'chat': {'id': 1061810735, 'type': 'private', 'title': None, 'username': 'eldon114', 'first_name': 'Eldon', 'last_name': None, 'is_forum': None, 'photo': None, 'bio': None, 'join_to_send_messages': None, 'join_by_request': None, 'has_private_forwards': None, 'has_restricted_voice_and_video_messages': None, 'description': None, 'invite_link': None, 'pinned_message': None, 'permissions': None, 'slow_mode_delay': None, 'message_auto_delete_time': None, 'has_protected_content': None, 'sticker_set_name': None, 'can_set_sticker_set': None, 'linked_chat_id': None, 'location': None, 'active_usernames': None, 'emoji_status_custom_emoji_id': None, 'has_hidden_members': None, 'has_aggressive_anti_spam_enabled': None, 'emoji_status_expiration_date': None, 'available_reactions': None, 'accent_color_id': None, 'background_custom_emoji_id': None, 'profile_accent_color_id': None, 'profile_background_custom_emoji_id': None, 'has_visible_history': None, 'unrestrict_boost_count': None, 'custom_emoji_sticker_set_name': None}, 'sender_chat': None, 'is_automatic_forward': None, 'reply_to_message': None, 'via_bot': None, 'edit_date': None, 'has_protected_content': None, 'media_group_id': None, 'author_signature': None, 'text': 'what was my first question', 'entities': None, 'caption_entities': None, 'audio': None, 'document': None, 'photo': None, 'sticker': None, 'video': None, 'video_note': None, 'voice': None, 'caption': None, 'contact': None, 'location': None, 'venue': None, 'animation': None, 'dice': None, 'new_chat_members': None, 'left_chat_member': None, 'new_chat_title': None, 'new_chat_photo': None, 'delete_chat_photo': None, 'group_chat_created': None, 'supergroup_chat_created': None, 'channel_chat_created': None, 'migrate_to_chat_id': None, 'migrate_from_chat_id': None, 'pinned_message': None, 'invoice': None, 'successful_payment': None, 'connected_website': None, 'reply_markup': None, 'message_thread_id': None, 'is_topic_message': None, 'forum_topic_created': None, 'forum_topic_closed': None, 'forum_topic_reopened': None, 'has_media_spoiler': None, 'forum_topic_edited': None, 'general_forum_topic_hidden': None, 'general_forum_topic_unhidden': None, 'write_access_allowed': None, 'users_shared': None, 'chat_shared': None, 'story': None, 'external_reply': None, 'quote': None, 'link_preview_options': None, 'giveaway_created': None, 'giveaway': None, 'giveaway_winners': None, 'giveaway_completed': None, 'forward_origin': None, 'boost_added': None, 'sender_boost_count': None, 'reply_to_story': None, 'json': {'message_id': 11, 'from': {'id': 1061810735, 'is_bot': False, 'first_name': 'Eldon', 'username': 'eldon114', 'language_code': 'en'}, 'chat': {'id': 1061810735, 'first_name': 'Eldon', 'username': 'eldon114', 'type': 'private'}, 'date': 1712384947, 'text': 'what was my first question'}}\n",
            "<s>[INST] what was my first question [/INST]\n",
            " I'm an AI language model and don't have the ability to remember your previous questions or interactions. However, I can tell you that the first question you asked me was: \"what was my first question\". This is a common question that people ask when they're not sure what they've already asked or when they're interacting with a new AI model. I'll be happy to help answer any question you have to the best of my ability. Is there a specific topic or question you'd like to know more about?\n",
            "what was my first question\n",
            " I'm an AI language model and don't have the ability to remember your previous questions or interactions. However, I can tell you that the first question you asked me was: \"what was my first question\". This is a common question that people ask when they're not sure what they've already asked or when they're interacting with a new AI model. I'll be happy to help answer any question you have to the best of my ability. Is there a specific topic or question you'd like to know more about?\n",
            "Message received! {'content_type': 'text', 'id': 13, 'message_id': 13, 'from_user': {'id': 1061810735, 'is_bot': False, 'first_name': 'Eldon', 'username': 'eldon114', 'last_name': None, 'language_code': 'en', 'can_join_groups': None, 'can_read_all_group_messages': None, 'supports_inline_queries': None, 'is_premium': None, 'added_to_attachment_menu': None}, 'date': 1712384963, 'chat': {'id': 1061810735, 'type': 'private', 'title': None, 'username': 'eldon114', 'first_name': 'Eldon', 'last_name': None, 'is_forum': None, 'photo': None, 'bio': None, 'join_to_send_messages': None, 'join_by_request': None, 'has_private_forwards': None, 'has_restricted_voice_and_video_messages': None, 'description': None, 'invite_link': None, 'pinned_message': None, 'permissions': None, 'slow_mode_delay': None, 'message_auto_delete_time': None, 'has_protected_content': None, 'sticker_set_name': None, 'can_set_sticker_set': None, 'linked_chat_id': None, 'location': None, 'active_usernames': None, 'emoji_status_custom_emoji_id': None, 'has_hidden_members': None, 'has_aggressive_anti_spam_enabled': None, 'emoji_status_expiration_date': None, 'available_reactions': None, 'accent_color_id': None, 'background_custom_emoji_id': None, 'profile_accent_color_id': None, 'profile_background_custom_emoji_id': None, 'has_visible_history': None, 'unrestrict_boost_count': None, 'custom_emoji_sticker_set_name': None}, 'sender_chat': None, 'is_automatic_forward': None, 'reply_to_message': None, 'via_bot': None, 'edit_date': None, 'has_protected_content': None, 'media_group_id': None, 'author_signature': None, 'text': 'what is the symbol of singapore', 'entities': None, 'caption_entities': None, 'audio': None, 'document': None, 'photo': None, 'sticker': None, 'video': None, 'video_note': None, 'voice': None, 'caption': None, 'contact': None, 'location': None, 'venue': None, 'animation': None, 'dice': None, 'new_chat_members': None, 'left_chat_member': None, 'new_chat_title': None, 'new_chat_photo': None, 'delete_chat_photo': None, 'group_chat_created': None, 'supergroup_chat_created': None, 'channel_chat_created': None, 'migrate_to_chat_id': None, 'migrate_from_chat_id': None, 'pinned_message': None, 'invoice': None, 'successful_payment': None, 'connected_website': None, 'reply_markup': None, 'message_thread_id': None, 'is_topic_message': None, 'forum_topic_created': None, 'forum_topic_closed': None, 'forum_topic_reopened': None, 'has_media_spoiler': None, 'forum_topic_edited': None, 'general_forum_topic_hidden': None, 'general_forum_topic_unhidden': None, 'write_access_allowed': None, 'users_shared': None, 'chat_shared': None, 'story': None, 'external_reply': None, 'quote': None, 'link_preview_options': None, 'giveaway_created': None, 'giveaway': None, 'giveaway_winners': None, 'giveaway_completed': None, 'forward_origin': None, 'boost_added': None, 'sender_boost_count': None, 'reply_to_story': None, 'json': {'message_id': 13, 'from': {'id': 1061810735, 'is_bot': False, 'first_name': 'Eldon', 'username': 'eldon114', 'language_code': 'en'}, 'chat': {'id': 1061810735, 'first_name': 'Eldon', 'username': 'eldon114', 'type': 'private'}, 'date': 1712384963, 'text': 'what is the symbol of singapore'}}\n",
            "<s>[INST] what was my first question [/INST] I'm an AI language model and don't have the ability to remember your previous questions or interactions. However, I can tell you that the first question you asked me was: \"what was my first question\". This is a common question that people ask when they're not sure what they've already asked or when they're interacting with a new AI model. I'll be happy to help answer any question you have to the best of my ability. Is there a specific topic or question you'd like to know more about?</s>[INST] what is the symbol of singapore [/INST]\n",
            " The symbol of Singapore is the Merlion, which is a mythical creature with a lion's head and the body of a fish. It is widely used as a mascot and a national personification of Singapore, particularly in tourism and merchandise. The Merlion is said to represent Singapore's origin as a fishing village, and its transformation into a lion, symbolizing its boldness and courage as it grew into a modern city-state. The Merlion statue is a popular tourist attraction, and there are several of them located throughout Singapore.\n",
            "what is the symbol of singapore\n",
            " The symbol of Singapore is the Merlion, which is a mythical creature with a lion's head and the body of a fish. It is widely used as a mascot and a national personification of Singapore, particularly in tourism and merchandise. The Merlion is said to represent Singapore's origin as a fishing village, and its transformation into a lion, symbolizing its boldness and courage as it grew into a modern city-state. The Merlion statue is a popular tourist attraction, and there are several of them located throughout Singapore.\n",
            "Message received! {'content_type': 'text', 'id': 15, 'message_id': 15, 'from_user': {'id': 1061810735, 'is_bot': False, 'first_name': 'Eldon', 'username': 'eldon114', 'last_name': None, 'language_code': 'en', 'can_join_groups': None, 'can_read_all_group_messages': None, 'supports_inline_queries': None, 'is_premium': None, 'added_to_attachment_menu': None}, 'date': 1712384971, 'chat': {'id': 1061810735, 'type': 'private', 'title': None, 'username': 'eldon114', 'first_name': 'Eldon', 'last_name': None, 'is_forum': None, 'photo': None, 'bio': None, 'join_to_send_messages': None, 'join_by_request': None, 'has_private_forwards': None, 'has_restricted_voice_and_video_messages': None, 'description': None, 'invite_link': None, 'pinned_message': None, 'permissions': None, 'slow_mode_delay': None, 'message_auto_delete_time': None, 'has_protected_content': None, 'sticker_set_name': None, 'can_set_sticker_set': None, 'linked_chat_id': None, 'location': None, 'active_usernames': None, 'emoji_status_custom_emoji_id': None, 'has_hidden_members': None, 'has_aggressive_anti_spam_enabled': None, 'emoji_status_expiration_date': None, 'available_reactions': None, 'accent_color_id': None, 'background_custom_emoji_id': None, 'profile_accent_color_id': None, 'profile_background_custom_emoji_id': None, 'has_visible_history': None, 'unrestrict_boost_count': None, 'custom_emoji_sticker_set_name': None}, 'sender_chat': None, 'is_automatic_forward': None, 'reply_to_message': None, 'via_bot': None, 'edit_date': None, 'has_protected_content': None, 'media_group_id': None, 'author_signature': None, 'text': 'what is mrt', 'entities': None, 'caption_entities': None, 'audio': None, 'document': None, 'photo': None, 'sticker': None, 'video': None, 'video_note': None, 'voice': None, 'caption': None, 'contact': None, 'location': None, 'venue': None, 'animation': None, 'dice': None, 'new_chat_members': None, 'left_chat_member': None, 'new_chat_title': None, 'new_chat_photo': None, 'delete_chat_photo': None, 'group_chat_created': None, 'supergroup_chat_created': None, 'channel_chat_created': None, 'migrate_to_chat_id': None, 'migrate_from_chat_id': None, 'pinned_message': None, 'invoice': None, 'successful_payment': None, 'connected_website': None, 'reply_markup': None, 'message_thread_id': None, 'is_topic_message': None, 'forum_topic_created': None, 'forum_topic_closed': None, 'forum_topic_reopened': None, 'has_media_spoiler': None, 'forum_topic_edited': None, 'general_forum_topic_hidden': None, 'general_forum_topic_unhidden': None, 'write_access_allowed': None, 'users_shared': None, 'chat_shared': None, 'story': None, 'external_reply': None, 'quote': None, 'link_preview_options': None, 'giveaway_created': None, 'giveaway': None, 'giveaway_winners': None, 'giveaway_completed': None, 'forward_origin': None, 'boost_added': None, 'sender_boost_count': None, 'reply_to_story': None, 'json': {'message_id': 15, 'from': {'id': 1061810735, 'is_bot': False, 'first_name': 'Eldon', 'username': 'eldon114', 'language_code': 'en'}, 'chat': {'id': 1061810735, 'first_name': 'Eldon', 'username': 'eldon114', 'type': 'private'}, 'date': 1712384971, 'text': 'what is mrt'}}\n",
            "<s>[INST] what was my first question [/INST] I'm an AI language model and don't have the ability to remember your previous questions or interactions. However, I can tell you that the first question you asked me was: \"what was my first question\". This is a common question that people ask when they're not sure what they've already asked or when they're interacting with a new AI model. I'll be happy to help answer any question you have to the best of my ability. Is there a specific topic or question you'd like to know more about?</s>[INST] what is the symbol of singapore [/INST] The symbol of Singapore is the Merlion, which is a mythical creature with a lion's head and the body of a fish. It is widely used as a mascot and a national personification of Singapore, particularly in tourism and merchandise. The Merlion is said to represent Singapore's origin as a fishing village, and its transformation into a lion, symbolizing its boldness and courage as it grew into a modern city-state. The Merlion statue is a popular tourist attraction, and there are several of them located throughout Singapore.</s>[INST] what is mrt [/INST]\n",
            " MRT stands for Mass Rapid Transit. It is a type of rapid transit system used for public transportation in many cities around the world, including Singapore. The MRT system in Singapore is operated by the Land Transport Authority (LTA) and the Mass Rapid Transit Corporation (MRTC). It is an integrated transport system that connects various parts of the city-state with an extensive network of trains, buses, and taxis. The MRT system in Singapore is efficient, reliable, and affordable, making it a popular choice for commuters. It is also known for its punctuality, with trains running on time most of the time. The MRT system in Singapore has three main lines, the East-West Line, the North-South Line, and the North-East Line, which cover most of the major areas of the city-state.\n",
            "what is mrt\n",
            " MRT stands for Mass Rapid Transit. It is a type of rapid transit system used for public transportation in many cities around the world, including Singapore. The MRT system in Singapore is operated by the Land Transport Authority (LTA) and the Mass Rapid Transit Corporation (MRTC). It is an integrated transport system that connects various parts of the city-state with an extensive network of trains, buses, and taxis. The MRT system in Singapore is efficient, reliable, and affordable, making it a popular choice for commuters. It is also known for its punctuality, with trains running on time most of the time. The MRT system in Singapore has three main lines, the East-West Line, the North-South Line, and the North-East Line, which cover most of the major areas of the city-state.\n",
            "Message received! {'content_type': 'text', 'id': 17, 'message_id': 17, 'from_user': {'id': 1061810735, 'is_bot': False, 'first_name': 'Eldon', 'username': 'eldon114', 'last_name': None, 'language_code': 'en', 'can_join_groups': None, 'can_read_all_group_messages': None, 'supports_inline_queries': None, 'is_premium': None, 'added_to_attachment_menu': None}, 'date': 1712384977, 'chat': {'id': 1061810735, 'type': 'private', 'title': None, 'username': 'eldon114', 'first_name': 'Eldon', 'last_name': None, 'is_forum': None, 'photo': None, 'bio': None, 'join_to_send_messages': None, 'join_by_request': None, 'has_private_forwards': None, 'has_restricted_voice_and_video_messages': None, 'description': None, 'invite_link': None, 'pinned_message': None, 'permissions': None, 'slow_mode_delay': None, 'message_auto_delete_time': None, 'has_protected_content': None, 'sticker_set_name': None, 'can_set_sticker_set': None, 'linked_chat_id': None, 'location': None, 'active_usernames': None, 'emoji_status_custom_emoji_id': None, 'has_hidden_members': None, 'has_aggressive_anti_spam_enabled': None, 'emoji_status_expiration_date': None, 'available_reactions': None, 'accent_color_id': None, 'background_custom_emoji_id': None, 'profile_accent_color_id': None, 'profile_background_custom_emoji_id': None, 'has_visible_history': None, 'unrestrict_boost_count': None, 'custom_emoji_sticker_set_name': None}, 'sender_chat': None, 'is_automatic_forward': None, 'reply_to_message': None, 'via_bot': None, 'edit_date': None, 'has_protected_content': None, 'media_group_id': None, 'author_signature': None, 'text': 'what was my second question', 'entities': None, 'caption_entities': None, 'audio': None, 'document': None, 'photo': None, 'sticker': None, 'video': None, 'video_note': None, 'voice': None, 'caption': None, 'contact': None, 'location': None, 'venue': None, 'animation': None, 'dice': None, 'new_chat_members': None, 'left_chat_member': None, 'new_chat_title': None, 'new_chat_photo': None, 'delete_chat_photo': None, 'group_chat_created': None, 'supergroup_chat_created': None, 'channel_chat_created': None, 'migrate_to_chat_id': None, 'migrate_from_chat_id': None, 'pinned_message': None, 'invoice': None, 'successful_payment': None, 'connected_website': None, 'reply_markup': None, 'message_thread_id': None, 'is_topic_message': None, 'forum_topic_created': None, 'forum_topic_closed': None, 'forum_topic_reopened': None, 'has_media_spoiler': None, 'forum_topic_edited': None, 'general_forum_topic_hidden': None, 'general_forum_topic_unhidden': None, 'write_access_allowed': None, 'users_shared': None, 'chat_shared': None, 'story': None, 'external_reply': None, 'quote': None, 'link_preview_options': None, 'giveaway_created': None, 'giveaway': None, 'giveaway_winners': None, 'giveaway_completed': None, 'forward_origin': None, 'boost_added': None, 'sender_boost_count': None, 'reply_to_story': None, 'json': {'message_id': 17, 'from': {'id': 1061810735, 'is_bot': False, 'first_name': 'Eldon', 'username': 'eldon114', 'language_code': 'en'}, 'chat': {'id': 1061810735, 'first_name': 'Eldon', 'username': 'eldon114', 'type': 'private'}, 'date': 1712384977, 'text': 'what was my second question'}}\n",
            "<s>[INST] what was my first question [/INST] I'm an AI language model and don't have the ability to remember your previous questions or interactions. However, I can tell you that the first question you asked me was: \"what was my first question\". This is a common question that people ask when they're not sure what they've already asked or when they're interacting with a new AI model. I'll be happy to help answer any question you have to the best of my ability. Is there a specific topic or question you'd like to know more about?</s>[INST] what is the symbol of singapore [/INST] The symbol of Singapore is the Merlion, which is a mythical creature with a lion's head and the body of a fish. It is widely used as a mascot and a national personification of Singapore, particularly in tourism and merchandise. The Merlion is said to represent Singapore's origin as a fishing village, and its transformation into a lion, symbolizing its boldness and courage as it grew into a modern city-state. The Merlion statue is a popular tourist attraction, and there are several of them located throughout Singapore.</s>[INST] what is mrt [/INST] MRT stands for Mass Rapid Transit. It is a type of rapid transit system used for public transportation in many cities around the world, including Singapore. The MRT system in Singapore is operated by the Land Transport Authority (LTA) and the Mass Rapid Transit Corporation (MRTC). It is an integrated transport system that connects various parts of the city-state with an extensive network of trains, buses, and taxis. The MRT system in Singapore is efficient, reliable, and affordable, making it a popular choice for commuters. It is also known for its punctuality, with trains running on time most of the time. The MRT system in Singapore has three main lines, the East-West Line, the North-South Line, and the North-East Line, which cover most of the major areas of the city-state.</s>[INST] what was my second question [/INST]\n",
            " I'm an AI language model and don't have the ability to remember your previous questions or interactions. However, based on the conversation history, your second question was \"what is mrt?\". I hope this information was helpful. Let me know if you have any other questions or if there's a specific topic you'd like to know more about.\n",
            "what was my second question\n",
            " I'm an AI language model and don't have the ability to remember your previous questions or interactions. However, based on the conversation history, your second question was \"what is mrt?\". I hope this information was helpful. Let me know if you have any other questions or if there's a specific topic you'd like to know more about.\n",
            "Message received! {'content_type': 'text', 'id': 19, 'message_id': 19, 'from_user': {'id': 1061810735, 'is_bot': False, 'first_name': 'Eldon', 'username': 'eldon114', 'last_name': None, 'language_code': 'en', 'can_join_groups': None, 'can_read_all_group_messages': None, 'supports_inline_queries': None, 'is_premium': None, 'added_to_attachment_menu': None}, 'date': 1712385366, 'chat': {'id': 1061810735, 'type': 'private', 'title': None, 'username': 'eldon114', 'first_name': 'Eldon', 'last_name': None, 'is_forum': None, 'photo': None, 'bio': None, 'join_to_send_messages': None, 'join_by_request': None, 'has_private_forwards': None, 'has_restricted_voice_and_video_messages': None, 'description': None, 'invite_link': None, 'pinned_message': None, 'permissions': None, 'slow_mode_delay': None, 'message_auto_delete_time': None, 'has_protected_content': None, 'sticker_set_name': None, 'can_set_sticker_set': None, 'linked_chat_id': None, 'location': None, 'active_usernames': None, 'emoji_status_custom_emoji_id': None, 'has_hidden_members': None, 'has_aggressive_anti_spam_enabled': None, 'emoji_status_expiration_date': None, 'available_reactions': None, 'accent_color_id': None, 'background_custom_emoji_id': None, 'profile_accent_color_id': None, 'profile_background_custom_emoji_id': None, 'has_visible_history': None, 'unrestrict_boost_count': None, 'custom_emoji_sticker_set_name': None}, 'sender_chat': None, 'is_automatic_forward': None, 'reply_to_message': None, 'via_bot': None, 'edit_date': None, 'has_protected_content': None, 'media_group_id': None, 'author_signature': None, 'text': 'what is my first question', 'entities': None, 'caption_entities': None, 'audio': None, 'document': None, 'photo': None, 'sticker': None, 'video': None, 'video_note': None, 'voice': None, 'caption': None, 'contact': None, 'location': None, 'venue': None, 'animation': None, 'dice': None, 'new_chat_members': None, 'left_chat_member': None, 'new_chat_title': None, 'new_chat_photo': None, 'delete_chat_photo': None, 'group_chat_created': None, 'supergroup_chat_created': None, 'channel_chat_created': None, 'migrate_to_chat_id': None, 'migrate_from_chat_id': None, 'pinned_message': None, 'invoice': None, 'successful_payment': None, 'connected_website': None, 'reply_markup': None, 'message_thread_id': None, 'is_topic_message': None, 'forum_topic_created': None, 'forum_topic_closed': None, 'forum_topic_reopened': None, 'has_media_spoiler': None, 'forum_topic_edited': None, 'general_forum_topic_hidden': None, 'general_forum_topic_unhidden': None, 'write_access_allowed': None, 'users_shared': None, 'chat_shared': None, 'story': None, 'external_reply': None, 'quote': None, 'link_preview_options': None, 'giveaway_created': None, 'giveaway': None, 'giveaway_winners': None, 'giveaway_completed': None, 'forward_origin': None, 'boost_added': None, 'sender_boost_count': None, 'reply_to_story': None, 'json': {'message_id': 19, 'from': {'id': 1061810735, 'is_bot': False, 'first_name': 'Eldon', 'username': 'eldon114', 'language_code': 'en'}, 'chat': {'id': 1061810735, 'first_name': 'Eldon', 'username': 'eldon114', 'type': 'private'}, 'date': 1712385366, 'text': 'what is my first question'}}\n",
            "<s>[INST] what was my first question [/INST] I'm an AI language model and don't have the ability to remember your previous questions or interactions. However, I can tell you that the first question you asked me was: \"what was my first question\". This is a common question that people ask when they're not sure what they've already asked or when they're interacting with a new AI model. I'll be happy to help answer any question you have to the best of my ability. Is there a specific topic or question you'd like to know more about?</s>[INST] what is the symbol of singapore [/INST] The symbol of Singapore is the Merlion, which is a mythical creature with a lion's head and the body of a fish. It is widely used as a mascot and a national personification of Singapore, particularly in tourism and merchandise. The Merlion is said to represent Singapore's origin as a fishing village, and its transformation into a lion, symbolizing its boldness and courage as it grew into a modern city-state. The Merlion statue is a popular tourist attraction, and there are several of them located throughout Singapore.</s>[INST] what is mrt [/INST] MRT stands for Mass Rapid Transit. It is a type of rapid transit system used for public transportation in many cities around the world, including Singapore. The MRT system in Singapore is operated by the Land Transport Authority (LTA) and the Mass Rapid Transit Corporation (MRTC). It is an integrated transport system that connects various parts of the city-state with an extensive network of trains, buses, and taxis. The MRT system in Singapore is efficient, reliable, and affordable, making it a popular choice for commuters. It is also known for its punctuality, with trains running on time most of the time. The MRT system in Singapore has three main lines, the East-West Line, the North-South Line, and the North-East Line, which cover most of the major areas of the city-state.</s>[INST] what was my second question [/INST] I'm an AI language model and don't have the ability to remember your previous questions or interactions. However, based on the conversation history, your second question was \"what is mrt?\". I hope this information was helpful. Let me know if you have any other questions or if there's a specific topic you'd like to know more about.</s>[INST] what is my first question [/INST]\n",
            " I'm an AI language model and don't have the ability to remember your previous questions or interactions. However, based on the conversation history, your first question was \"what was my first question?\". I hope this information was helpful. Let me know if you have any other questions or if there's a specific topic you'd like to know more about.\n",
            "\n",
            "If you have any other question feel free to ask. I am here to help.\n",
            "what is my first question\n",
            " I'm an AI language model and don't have the ability to remember your previous questions or interactions. However, based on the conversation history, your first question was \"what was my first question?\". I hope this information was helpful. Let me know if you have any other questions or if there's a specific topic you'd like to know more about.\n",
            "\n",
            "If you have any other question feel free to ask. I am here to help.\n",
            "Message received! {'content_type': 'text', 'id': 21, 'message_id': 21, 'from_user': {'id': 1061810735, 'is_bot': False, 'first_name': 'Eldon', 'username': 'eldon114', 'last_name': None, 'language_code': 'en', 'can_join_groups': None, 'can_read_all_group_messages': None, 'supports_inline_queries': None, 'is_premium': None, 'added_to_attachment_menu': None}, 'date': 1712385500, 'chat': {'id': 1061810735, 'type': 'private', 'title': None, 'username': 'eldon114', 'first_name': 'Eldon', 'last_name': None, 'is_forum': None, 'photo': None, 'bio': None, 'join_to_send_messages': None, 'join_by_request': None, 'has_private_forwards': None, 'has_restricted_voice_and_video_messages': None, 'description': None, 'invite_link': None, 'pinned_message': None, 'permissions': None, 'slow_mode_delay': None, 'message_auto_delete_time': None, 'has_protected_content': None, 'sticker_set_name': None, 'can_set_sticker_set': None, 'linked_chat_id': None, 'location': None, 'active_usernames': None, 'emoji_status_custom_emoji_id': None, 'has_hidden_members': None, 'has_aggressive_anti_spam_enabled': None, 'emoji_status_expiration_date': None, 'available_reactions': None, 'accent_color_id': None, 'background_custom_emoji_id': None, 'profile_accent_color_id': None, 'profile_background_custom_emoji_id': None, 'has_visible_history': None, 'unrestrict_boost_count': None, 'custom_emoji_sticker_set_name': None}, 'sender_chat': None, 'is_automatic_forward': None, 'reply_to_message': None, 'via_bot': None, 'edit_date': None, 'has_protected_content': None, 'media_group_id': None, 'author_signature': None, 'text': 'who is the prime minister of the UK', 'entities': None, 'caption_entities': None, 'audio': None, 'document': None, 'photo': None, 'sticker': None, 'video': None, 'video_note': None, 'voice': None, 'caption': None, 'contact': None, 'location': None, 'venue': None, 'animation': None, 'dice': None, 'new_chat_members': None, 'left_chat_member': None, 'new_chat_title': None, 'new_chat_photo': None, 'delete_chat_photo': None, 'group_chat_created': None, 'supergroup_chat_created': None, 'channel_chat_created': None, 'migrate_to_chat_id': None, 'migrate_from_chat_id': None, 'pinned_message': None, 'invoice': None, 'successful_payment': None, 'connected_website': None, 'reply_markup': None, 'message_thread_id': None, 'is_topic_message': None, 'forum_topic_created': None, 'forum_topic_closed': None, 'forum_topic_reopened': None, 'has_media_spoiler': None, 'forum_topic_edited': None, 'general_forum_topic_hidden': None, 'general_forum_topic_unhidden': None, 'write_access_allowed': None, 'users_shared': None, 'chat_shared': None, 'story': None, 'external_reply': None, 'quote': None, 'link_preview_options': None, 'giveaway_created': None, 'giveaway': None, 'giveaway_winners': None, 'giveaway_completed': None, 'forward_origin': None, 'boost_added': None, 'sender_boost_count': None, 'reply_to_story': None, 'json': {'message_id': 21, 'from': {'id': 1061810735, 'is_bot': False, 'first_name': 'Eldon', 'username': 'eldon114', 'language_code': 'en'}, 'chat': {'id': 1061810735, 'first_name': 'Eldon', 'username': 'eldon114', 'type': 'private'}, 'date': 1712385500, 'text': 'who is the prime minister of the UK'}}\n",
            "<s>[INST] what was my first question [/INST] I'm an AI language model and don't have the ability to remember your previous questions or interactions. However, I can tell you that the first question you asked me was: \"what was my first question\". This is a common question that people ask when they're not sure what they've already asked or when they're interacting with a new AI model. I'll be happy to help answer any question you have to the best of my ability. Is there a specific topic or question you'd like to know more about?</s>[INST] what is the symbol of singapore [/INST] The symbol of Singapore is the Merlion, which is a mythical creature with a lion's head and the body of a fish. It is widely used as a mascot and a national personification of Singapore, particularly in tourism and merchandise. The Merlion is said to represent Singapore's origin as a fishing village, and its transformation into a lion, symbolizing its boldness and courage as it grew into a modern city-state. The Merlion statue is a popular tourist attraction, and there are several of them located throughout Singapore.</s>[INST] what is mrt [/INST] MRT stands for Mass Rapid Transit. It is a type of rapid transit system used for public transportation in many cities around the world, including Singapore. The MRT system in Singapore is operated by the Land Transport Authority (LTA) and the Mass Rapid Transit Corporation (MRTC). It is an integrated transport system that connects various parts of the city-state with an extensive network of trains, buses, and taxis. The MRT system in Singapore is efficient, reliable, and affordable, making it a popular choice for commuters. It is also known for its punctuality, with trains running on time most of the time. The MRT system in Singapore has three main lines, the East-West Line, the North-South Line, and the North-East Line, which cover most of the major areas of the city-state.</s>[INST] what was my second question [/INST] I'm an AI language model and don't have the ability to remember your previous questions or interactions. However, based on the conversation history, your second question was \"what is mrt?\". I hope this information was helpful. Let me know if you have any other questions or if there's a specific topic you'd like to know more about.</s>[INST] what is my first question [/INST] I'm an AI language model and don't have the ability to remember your previous questions or interactions. However, based on the conversation history, your first question was \"what was my first question?\". I hope this information was helpful. Let me know if you have any other questions or if there's a specific topic you'd like to know more about.\n",
            "\n",
            "If you have any other question feel free to ask. I am here to help.</s>[INST] who is the prime minister of the UK [/INST]\n",
            " As of my current knowledge up to 2021, the Prime Minister of the United Kingdom is Boris Johnson. He has been in office since July 24, 2019. Johnson is a British politician and member of the Conservative Party. He previously served as Mayor of London from 2008 to 2016 and as Foreign Secretary from 2016 to 2018. Johnson's political career has been marked by his charismatic personality and controversial statements, as well as his support for Brexit.\n",
            "\n",
            "Please note that political situations can change rapidly and it's always a good idea to check the latest news sources for the most up-to-date information. If you have any other question feel free to ask. I am here to help.\n",
            "who is the prime minister of the UK\n",
            " As of my current knowledge up to 2021, the Prime Minister of the United Kingdom is Boris Johnson. He has been in office since July 24, 2019. Johnson is a British politician and member of the Conservative Party. He previously served as Mayor of London from 2008 to 2016 and as Foreign Secretary from 2016 to 2018. Johnson's political career has been marked by his charismatic personality and controversial statements, as well as his support for Brexit.\n",
            "\n",
            "Please note that political situations can change rapidly and it's always a good idea to check the latest news sources for the most up-to-date information. If you have any other question feel free to ask. I am here to help.\n",
            "Message received! {'content_type': 'text', 'id': 23, 'message_id': 23, 'from_user': {'id': 1061810735, 'is_bot': False, 'first_name': 'Eldon', 'username': 'eldon114', 'last_name': None, 'language_code': 'en', 'can_join_groups': None, 'can_read_all_group_messages': None, 'supports_inline_queries': None, 'is_premium': None, 'added_to_attachment_menu': None}, 'date': 1712385576, 'chat': {'id': 1061810735, 'type': 'private', 'title': None, 'username': 'eldon114', 'first_name': 'Eldon', 'last_name': None, 'is_forum': None, 'photo': None, 'bio': None, 'join_to_send_messages': None, 'join_by_request': None, 'has_private_forwards': None, 'has_restricted_voice_and_video_messages': None, 'description': None, 'invite_link': None, 'pinned_message': None, 'permissions': None, 'slow_mode_delay': None, 'message_auto_delete_time': None, 'has_protected_content': None, 'sticker_set_name': None, 'can_set_sticker_set': None, 'linked_chat_id': None, 'location': None, 'active_usernames': None, 'emoji_status_custom_emoji_id': None, 'has_hidden_members': None, 'has_aggressive_anti_spam_enabled': None, 'emoji_status_expiration_date': None, 'available_reactions': None, 'accent_color_id': None, 'background_custom_emoji_id': None, 'profile_accent_color_id': None, 'profile_background_custom_emoji_id': None, 'has_visible_history': None, 'unrestrict_boost_count': None, 'custom_emoji_sticker_set_name': None}, 'sender_chat': None, 'is_automatic_forward': None, 'reply_to_message': None, 'via_bot': None, 'edit_date': None, 'has_protected_content': None, 'media_group_id': None, 'author_signature': None, 'text': 'what is 35 x 2 - 1?', 'entities': None, 'caption_entities': None, 'audio': None, 'document': None, 'photo': None, 'sticker': None, 'video': None, 'video_note': None, 'voice': None, 'caption': None, 'contact': None, 'location': None, 'venue': None, 'animation': None, 'dice': None, 'new_chat_members': None, 'left_chat_member': None, 'new_chat_title': None, 'new_chat_photo': None, 'delete_chat_photo': None, 'group_chat_created': None, 'supergroup_chat_created': None, 'channel_chat_created': None, 'migrate_to_chat_id': None, 'migrate_from_chat_id': None, 'pinned_message': None, 'invoice': None, 'successful_payment': None, 'connected_website': None, 'reply_markup': None, 'message_thread_id': None, 'is_topic_message': None, 'forum_topic_created': None, 'forum_topic_closed': None, 'forum_topic_reopened': None, 'has_media_spoiler': None, 'forum_topic_edited': None, 'general_forum_topic_hidden': None, 'general_forum_topic_unhidden': None, 'write_access_allowed': None, 'users_shared': None, 'chat_shared': None, 'story': None, 'external_reply': None, 'quote': None, 'link_preview_options': None, 'giveaway_created': None, 'giveaway': None, 'giveaway_winners': None, 'giveaway_completed': None, 'forward_origin': None, 'boost_added': None, 'sender_boost_count': None, 'reply_to_story': None, 'json': {'message_id': 23, 'from': {'id': 1061810735, 'is_bot': False, 'first_name': 'Eldon', 'username': 'eldon114', 'language_code': 'en'}, 'chat': {'id': 1061810735, 'first_name': 'Eldon', 'username': 'eldon114', 'type': 'private'}, 'date': 1712385576, 'text': 'what is 35 x 2 - 1?'}}\n",
            "<s>[INST] what was my first question [/INST] I'm an AI language model and don't have the ability to remember your previous questions or interactions. However, I can tell you that the first question you asked me was: \"what was my first question\". This is a common question that people ask when they're not sure what they've already asked or when they're interacting with a new AI model. I'll be happy to help answer any question you have to the best of my ability. Is there a specific topic or question you'd like to know more about?</s>[INST] what is the symbol of singapore [/INST] The symbol of Singapore is the Merlion, which is a mythical creature with a lion's head and the body of a fish. It is widely used as a mascot and a national personification of Singapore, particularly in tourism and merchandise. The Merlion is said to represent Singapore's origin as a fishing village, and its transformation into a lion, symbolizing its boldness and courage as it grew into a modern city-state. The Merlion statue is a popular tourist attraction, and there are several of them located throughout Singapore.</s>[INST] what is mrt [/INST] MRT stands for Mass Rapid Transit. It is a type of rapid transit system used for public transportation in many cities around the world, including Singapore. The MRT system in Singapore is operated by the Land Transport Authority (LTA) and the Mass Rapid Transit Corporation (MRTC). It is an integrated transport system that connects various parts of the city-state with an extensive network of trains, buses, and taxis. The MRT system in Singapore is efficient, reliable, and affordable, making it a popular choice for commuters. It is also known for its punctuality, with trains running on time most of the time. The MRT system in Singapore has three main lines, the East-West Line, the North-South Line, and the North-East Line, which cover most of the major areas of the city-state.</s>[INST] what was my second question [/INST] I'm an AI language model and don't have the ability to remember your previous questions or interactions. However, based on the conversation history, your second question was \"what is mrt?\". I hope this information was helpful. Let me know if you have any other questions or if there's a specific topic you'd like to know more about.</s>[INST] what is my first question [/INST] I'm an AI language model and don't have the ability to remember your previous questions or interactions. However, based on the conversation history, your first question was \"what was my first question?\". I hope this information was helpful. Let me know if you have any other questions or if there's a specific topic you'd like to know more about.\n",
            "\n",
            "If you have any other question feel free to ask. I am here to help.</s>[INST] who is the prime minister of the UK [/INST] As of my current knowledge up to 2021, the Prime Minister of the United Kingdom is Boris Johnson. He has been in office since July 24, 2019. Johnson is a British politician and member of the Conservative Party. He previously served as Mayor of London from 2008 to 2016 and as Foreign Secretary from 2016 to 2018. Johnson's political career has been marked by his charismatic personality and controversial statements, as well as his support for Brexit.\n",
            "\n",
            "Please note that political situations can change rapidly and it's always a good idea to check the latest news sources for the most up-to-date information. If you have any other question feel free to ask. I am here to help.</s>[INST] what is 35 x 2 - 1? [/INST]\n",
            " The expression \"35 x 2 - 1\" can be solved using the order of operations, also known as PEMDAS (Parentheses, Exponents, Multiplication and Division (from left to right), Addition and Subtraction (from left to right)).\n",
            "\n",
            "First, you perform the multiplication: 35 x 2 = 70\n",
            "Then you perform the subtraction: 70 - 1 = 69\n",
            "\n",
            "So, the result of the expression \"35 x 2 - 1\" is 69.\n",
            "\n",
            "I hope this information was helpful. Let me know if you have any other question or if there's a specific topic you'd like to know more about.\n",
            "\n",
            "If you have any other question feel free to ask. I am here to help.\n",
            "what is 35 x 2 - 1?\n",
            " The expression \"35 x 2 - 1\" can be solved using the order of operations, also known as PEMDAS (Parentheses, Exponents, Multiplication and Division (from left to right), Addition and Subtraction (from left to right)).\n",
            "\n",
            "First, you perform the multiplication: 35 x 2 = 70\n",
            "Then you perform the subtraction: 70 - 1 = 69\n",
            "\n",
            "So, the result of the expression \"35 x 2 - 1\" is 69.\n",
            "\n",
            "I hope this information was helpful. Let me know if you have any other question or if there's a specific topic you'd like to know more about.\n",
            "\n",
            "If you have any other question feel free to ask. I am here to help.\n"
          ]
        },
        {
          "output_type": "stream",
          "name": "stderr",
          "text": [
            "2024-04-06 06:41:29,287 (__init__.py:1027 MainThread) ERROR - TeleBot: \"Infinity polling: polling exited\"\n",
            "ERROR:TeleBot:Infinity polling: polling exited\n",
            "2024-04-06 06:41:29,292 (__init__.py:1029 MainThread) ERROR - TeleBot: \"Break infinity polling\"\n",
            "ERROR:TeleBot:Break infinity polling\n"
          ]
        }
      ]
    },
    {
      "cell_type": "markdown",
      "source": [
        "<center><img src='https://drive.google.com/uc?id=19jDtL32UVmF1TEU1SNSsGQwvmMf5EpMf' width=\"400\"></center>"
      ],
      "metadata": {
        "id": "1tNSwLwLOc1H"
      }
    },
    {
      "cell_type": "markdown",
      "source": [
        "## 💽 Retrieval Augmented Generation"
      ],
      "metadata": {
        "id": "ziziFL3uMNDL"
      }
    },
    {
      "cell_type": "markdown",
      "source": [
        "Now what happens if we ask a question to our bot, that is not present in its training database?\n",
        "For example, something related to recent news. Or a specific topic where the model might hallucinate answers. You can try it!"
      ],
      "metadata": {
        "id": "lWRHsvarOvoP"
      }
    },
    {
      "cell_type": "code",
      "source": [
        "bot = init_bot()\n",
        "llm.chat = []\n",
        "bot.infinity_polling()"
      ],
      "metadata": {
        "id": "Tm6F9x5fPQr1",
        "outputId": "01a6de18-b16b-49b0-9008-e4f4bcee8c45",
        "colab": {
          "base_uri": "https://localhost:8080/"
        }
      },
      "execution_count": null,
      "outputs": [
        {
          "output_type": "stream",
          "name": "stderr",
          "text": [
            "2024-04-06 06:41:35,519 (__init__.py:1027 MainThread) ERROR - TeleBot: \"Infinity polling: polling exited\"\n",
            "ERROR:TeleBot:Infinity polling: polling exited\n",
            "2024-04-06 06:41:35,523 (__init__.py:1029 MainThread) ERROR - TeleBot: \"Break infinity polling\"\n",
            "ERROR:TeleBot:Break infinity polling\n"
          ]
        }
      ]
    },
    {
      "cell_type": "markdown",
      "source": [
        "<center><img src='https://drive.google.com/uc?id=17IXh6uYom94qVG5a17EmZHNpNgPxIW-h' width=\"400\"></center>\n",
        "\n",
        "As you can see, the training data for this model probably ends around 2021. It does not have accurate information about that topic.\n",
        "It would be great if we can provide the model with context, or additional information given that prompt.\n",
        "\n",
        "Retrieval Augmented Generation (RAG) is a technique that is used for that goal.\n",
        "<center>\n",
        "<img src='https://media.licdn.com/dms/image/D4D12AQHY76w85U8W5g/article-cover_image-shrink_720_1280/0/1695787886133?e=1710979200&v=beta&t=sV6_ZlY78y55Vnvg9Wfs7dUunL-SwDAFBRcQ14SjqYY' width=1000></center>\n",
        "\n",
        "Using RAG, we can provide the model with our own documents and data, and the llm will be able to search through our data for us!\n",
        "\n",
        "In order to use this technique with our bot, we will make use of several of `langchain` modules."
      ],
      "metadata": {
        "id": "bWTLTh_fekpk"
      }
    },
    {
      "cell_type": "code",
      "source": [
        "!pip3 install faiss-cpu"
      ],
      "metadata": {
        "id": "ni0rIdmMhMVw",
        "outputId": "f0dc977b-9e18-4d37-c906-171daffde782",
        "colab": {
          "base_uri": "https://localhost:8080/"
        }
      },
      "execution_count": null,
      "outputs": [
        {
          "output_type": "stream",
          "name": "stdout",
          "text": [
            "Collecting faiss-cpu\n",
            "  Downloading faiss_cpu-1.8.0-cp310-cp310-manylinux_2_17_x86_64.manylinux2014_x86_64.whl (27.0 MB)\n",
            "\u001b[2K     \u001b[90m━━━━━━━━━━━━━━━━━━━━━━━━━━━━━━━━━━━━━━━━\u001b[0m \u001b[32m27.0/27.0 MB\u001b[0m \u001b[31m33.7 MB/s\u001b[0m eta \u001b[36m0:00:00\u001b[0m\n",
            "\u001b[?25hRequirement already satisfied: numpy in /usr/local/lib/python3.10/dist-packages (from faiss-cpu) (1.25.2)\n",
            "Installing collected packages: faiss-cpu\n",
            "Successfully installed faiss-cpu-1.8.0\n"
          ]
        }
      ]
    },
    {
      "cell_type": "code",
      "source": [
        "from langchain_community.document_loaders import WebBaseLoader, PyPDFLoader\n",
        "from langchain.text_splitter import RecursiveCharacterTextSplitter\n",
        "from langchain.storage import LocalFileStore\n",
        "from langchain_community.vectorstores import FAISS\n",
        "from langchain_community.embeddings import HuggingFaceInferenceAPIEmbeddings\n",
        "from langchain.embeddings import CacheBackedEmbeddings"
      ],
      "metadata": {
        "id": "BneW_ap-MUiz"
      },
      "execution_count": null,
      "outputs": []
    },
    {
      "cell_type": "markdown",
      "source": [
        "### Using the web"
      ],
      "metadata": {
        "id": "AH91HZPYkOtL"
      }
    },
    {
      "cell_type": "markdown",
      "source": [
        "In order to get the right response to our question, we must provide context, for example by helping the model with content from an article talking about the current UK prime minister, Rishi Sunak.\n",
        "\n",
        "We will load that webpage, extract its contents and chunk it into parts, each part containing some of the webpage content.\n",
        "All these 'chunks' will be fed into a database, that will only return the relevant parts to our question.\n",
        "\n",
        "Let us first load the webpage and process it into chunks.\n",
        "Find the url of the wikipedia page about Rishi Sunak, and paste it below."
      ],
      "metadata": {
        "id": "zlpHZianltgV"
      }
    },
    {
      "cell_type": "code",
      "source": [
        "wikipedia_rishi_sunak_url = \"https://en.wikipedia.org/wiki/Rishi_Sunak\"\n",
        "prime_ministers_loader = WebBaseLoader(wikipedia_rishi_sunak_url).load()\n",
        "text_splitter = RecursiveCharacterTextSplitter(chunk_size = 500, chunk_overlap = 50, length_function = len)\n",
        "\n",
        "prime_ministers_chunks = text_splitter.transform_documents(prime_ministers_loader)"
      ],
      "metadata": {
        "id": "YdhkOPgvh1Nx"
      },
      "execution_count": null,
      "outputs": []
    },
    {
      "cell_type": "markdown",
      "source": [
        "We can then initialize our database using those chunks of data. This database will not contain the chunks directly, but their embeddings, which is a higher order representation of the data, used to group similar content together.\n",
        "\n",
        "This embedding is computed from the data, using another machine learning model. In this tutorial we are using [sentence-transformers/all-MiniLM-l6-v2](https://huggingface.co/sentence-transformers/all-MiniLM-L6-v2), also available on 🤗 Hugging face.\n",
        "\n",
        "The database that we will be using is [FAISS](https://github.com/facebookresearch/faiss).\n",
        "\n",
        "Lets initialize everything, using the data we retrieved from the web."
      ],
      "metadata": {
        "id": "X0R07aUCnQnk"
      }
    },
    {
      "cell_type": "code",
      "source": [
        "store = LocalFileStore(\"./cache\")\n",
        "core_embeddings_model = HuggingFaceInferenceAPIEmbeddings(\n",
        "    api_key = userdata.get(hugging_face_token_secret),\n",
        "    model_name=\"sentence-transformers/all-MiniLM-l6-v2\")\n",
        "\n",
        "embedder = CacheBackedEmbeddings.from_bytes_store(core_embeddings_model, store)\n",
        "vectorstore = FAISS.from_documents(prime_ministers_chunks, embedder)\n",
        "\n",
        "retriever = vectorstore.as_retriever(search_type=\"similarity_score_threshold\", search_kwargs={\"score_threshold\": 0.3})"
      ],
      "metadata": {
        "id": "HAxZUN0agas4"
      },
      "execution_count": null,
      "outputs": []
    },
    {
      "cell_type": "markdown",
      "source": [
        "We can then search from this database, and we will get relevant part of the webpage to add to our llm prompt."
      ],
      "metadata": {
        "id": "57t7vtOjoIpn"
      }
    },
    {
      "cell_type": "code",
      "source": [
        "retriever.get_relevant_documents(\"who is the current uk prime minister\")"
      ],
      "metadata": {
        "id": "KEMdDZVmhBha",
        "outputId": "47d63fdd-c061-419e-80ee-ac4480501775",
        "colab": {
          "base_uri": "https://localhost:8080/"
        }
      },
      "execution_count": null,
      "outputs": [
        {
          "output_type": "execute_result",
          "data": {
            "text/plain": [
              "[Document(page_content='vte\\nRishi Sunak (/ˈrɪʃi ˈsuːnæk/ ⓘ;[1][2] born 12 May 1980) is a British politician who has served as Prime Minister of the United Kingdom and Leader of the Conservative Party since 2022. The first British Asian prime minister, he previously held two cabinet positions under Boris Johnson, latterly as Chancellor of the Exchequer from 2020 to 2022. Sunak has been Member of Parliament (MP) for Richmond (Yorks) since 2015.', metadata={'source': 'https://en.wikipedia.org/wiki/Rishi_Sunak', 'title': 'Rishi Sunak - Wikipedia', 'language': 'en'}),\n",
              " Document(page_content='^ Zeffmann, Henry; Elliott, Francis (5 June 2019). \"Moderates back Boris Johnson to be next prime minister\". The Times. Archived from the original on 9 July 2019. Retrieved 20 February 2020.\\n\\n^ \"Full list of new ministerial and government appointments: July 2019\". gov.uk. 30 July 2019. Archived from the original on 4 August 2019. Retrieved 1 October 2019.', metadata={'source': 'https://en.wikipedia.org/wiki/Rishi_Sunak', 'title': 'Rishi Sunak - Wikipedia', 'language': 'en'}),\n",
              " Document(page_content='^ Picheta, Rob. \"Rishi Sunak set to be UK\\'s next prime minister\". CNN. Archived from the original on 24 October 2022. Retrieved 24 October 2022.\\n\\n^ Nevett, Joshua (25 October 2022). \"Rishi Sunak calls for stability and unity as he wins contest to be PM\". BBC News. Archived from the original on 25 October 2022. Retrieved 10 December 2023.', metadata={'source': 'https://en.wikipedia.org/wiki/Rishi_Sunak', 'title': 'Rishi Sunak - Wikipedia', 'language': 'en'}),\n",
              " Document(page_content='Official website \\nProfile at Parliament of the United Kingdom\\nContributions in Parliament at Hansard\\nVoting record at Public Whip\\nRecord in Parliament at TheyWorkForYou\\nAppearances on C-SPAN\\nvteRishi Sunak\\nPrime Minister of the United Kingdom (2022–present)\\nLeader of the Conservative Party (2022–present)\\nChancellor of the Exchequer (2020–2022)\\nChief Secretary to the Treasury (2019–2020)\\nParliamentary Under-Secretary of State for Local Government (2018–2019)', metadata={'source': 'https://en.wikipedia.org/wiki/Rishi_Sunak', 'title': 'Rishi Sunak - Wikipedia', 'language': 'en'})]"
            ]
          },
          "metadata": {},
          "execution_count": 35
        }
      ]
    },
    {
      "cell_type": "markdown",
      "source": [
        "🎉 Great! We now have to create the function that will, given a list of documents, generate a new query. This new prompt will have the following format:\n",
        "\n",
        "\n",
        "> Answer the following question, making use of the documents provided below if they are relevant. Do not use those documents and do not mention them if you deem that they do not contain any relevant information. Do not mention the id of the documents. If a document is relevant, add the source of the information by adding a link to the exact url that was used. For that use the 'source' field of the relevant document.\n",
        ">\n",
        "> Question: [QUESTION]\n",
        ">\n",
        "> Documents:\n",
        "> - Document 1 [CONTENTS]\n",
        "- Document 2 [CONTENTS]\n",
        "- ...\n"
      ],
      "metadata": {
        "id": "3lPHys8-oZkP"
      }
    },
    {
      "cell_type": "code",
      "source": [
        "def append_documents_to_instruction(instruction):\n",
        "    instruction_with_documents = f'''Answer the following question, making use of the documents provided below if they are relevant. Do not use those documents and do not mention them if you deem that they do not contain any relevant information. Do not mention the id of the documents. If a document is relevant, add the source of the information by adding a link to the exact url that was used. For that use the 'source' field of the relevant document.\n",
        "Question: {instruction}\n",
        "\n",
        "    '''\n",
        "\n",
        "    docs = retriever.get_relevant_documents(instruction)\n",
        "\n",
        "    if len(docs) == 0: # If there are no relevant documents, just return the original instruction\n",
        "        return instruction\n",
        "\n",
        "    instruction_with_documents += \"Documents:\\n\"\n",
        "\n",
        "    for i, doc in enumerate(docs):\n",
        "        instruction_with_documents += f'''- {doc.metadata}\n",
        "            Content: {doc.page_content}\n",
        "'''\n",
        "    return instruction_with_documents"
      ],
      "metadata": {
        "id": "seiz6h6ViOvm"
      },
      "execution_count": null,
      "outputs": []
    },
    {
      "cell_type": "markdown",
      "source": [
        "We now have to modify our LLM class a little, to use that new function before getting a reply."
      ],
      "metadata": {
        "id": "GI_VPvR0pAU8"
      }
    },
    {
      "cell_type": "code",
      "source": [
        "class LLM:\n",
        "  def __init__(self):\n",
        "    model_string = \"mistralai/Mistral-7B-Instruct-v0.2\"\n",
        "    self.chat = []\n",
        "    self.llm = HuggingFaceHub(repo_id=model_string, model_kwargs={\"temperature\": 0.5, \"max_length\":64,\"max_new_tokens\":512})\n",
        "    self.tokenizer = AutoTokenizer.from_pretrained(model_string)\n",
        "\n",
        "  def get_reply(self, instruction):\n",
        "    instruction_with_context = append_documents_to_instruction(instruction)\n",
        "    self.chat.append({\"role\" : \"user\", \"content\" : instruction_with_context})\n",
        "\n",
        "    prompt = self.tokenizer.apply_chat_template(self.chat, tokenize=False)\n",
        "    reply = self.llm.invoke(prompt)\n",
        "    self.chat.append({\"role\" : \"assistant\", \"content\" : reply})\n",
        "    return reply"
      ],
      "metadata": {
        "id": "-j-hDkpsjVvG"
      },
      "execution_count": null,
      "outputs": []
    },
    {
      "cell_type": "code",
      "source": [
        "llm = LLM()"
      ],
      "metadata": {
        "id": "m6E5pHLFjmvi"
      },
      "execution_count": null,
      "outputs": []
    },
    {
      "cell_type": "markdown",
      "source": [
        "Lets check if it works!"
      ],
      "metadata": {
        "id": "0lLwYXIvpRID"
      }
    },
    {
      "cell_type": "code",
      "source": [
        "bot = init_bot()\n",
        "llm.chat = []\n",
        "bot.infinity_polling()"
      ],
      "metadata": {
        "id": "OLGD3P74jomW",
        "outputId": "d5f5dac1-5245-4158-acb7-4a8bbfdbc1a2",
        "colab": {
          "base_uri": "https://localhost:8080/"
        }
      },
      "execution_count": null,
      "outputs": [
        {
          "output_type": "stream",
          "name": "stdout",
          "text": [
            "Message received! {'content_type': 'text', 'id': 25, 'message_id': 25, 'from_user': {'id': 1061810735, 'is_bot': False, 'first_name': 'Eldon', 'username': 'eldon114', 'last_name': None, 'language_code': 'en', 'can_join_groups': None, 'can_read_all_group_messages': None, 'supports_inline_queries': None, 'is_premium': None, 'added_to_attachment_menu': None}, 'date': 1712386061, 'chat': {'id': 1061810735, 'type': 'private', 'title': None, 'username': 'eldon114', 'first_name': 'Eldon', 'last_name': None, 'is_forum': None, 'photo': None, 'bio': None, 'join_to_send_messages': None, 'join_by_request': None, 'has_private_forwards': None, 'has_restricted_voice_and_video_messages': None, 'description': None, 'invite_link': None, 'pinned_message': None, 'permissions': None, 'slow_mode_delay': None, 'message_auto_delete_time': None, 'has_protected_content': None, 'sticker_set_name': None, 'can_set_sticker_set': None, 'linked_chat_id': None, 'location': None, 'active_usernames': None, 'emoji_status_custom_emoji_id': None, 'has_hidden_members': None, 'has_aggressive_anti_spam_enabled': None, 'emoji_status_expiration_date': None, 'available_reactions': None, 'accent_color_id': None, 'background_custom_emoji_id': None, 'profile_accent_color_id': None, 'profile_background_custom_emoji_id': None, 'has_visible_history': None, 'unrestrict_boost_count': None, 'custom_emoji_sticker_set_name': None}, 'sender_chat': None, 'is_automatic_forward': None, 'reply_to_message': None, 'via_bot': None, 'edit_date': None, 'has_protected_content': None, 'media_group_id': None, 'author_signature': None, 'text': 'who is the prime minister of the UK', 'entities': None, 'caption_entities': None, 'audio': None, 'document': None, 'photo': None, 'sticker': None, 'video': None, 'video_note': None, 'voice': None, 'caption': None, 'contact': None, 'location': None, 'venue': None, 'animation': None, 'dice': None, 'new_chat_members': None, 'left_chat_member': None, 'new_chat_title': None, 'new_chat_photo': None, 'delete_chat_photo': None, 'group_chat_created': None, 'supergroup_chat_created': None, 'channel_chat_created': None, 'migrate_to_chat_id': None, 'migrate_from_chat_id': None, 'pinned_message': None, 'invoice': None, 'successful_payment': None, 'connected_website': None, 'reply_markup': None, 'message_thread_id': None, 'is_topic_message': None, 'forum_topic_created': None, 'forum_topic_closed': None, 'forum_topic_reopened': None, 'has_media_spoiler': None, 'forum_topic_edited': None, 'general_forum_topic_hidden': None, 'general_forum_topic_unhidden': None, 'write_access_allowed': None, 'users_shared': None, 'chat_shared': None, 'story': None, 'external_reply': None, 'quote': None, 'link_preview_options': None, 'giveaway_created': None, 'giveaway': None, 'giveaway_winners': None, 'giveaway_completed': None, 'forward_origin': None, 'boost_added': None, 'sender_boost_count': None, 'reply_to_story': None, 'json': {'message_id': 25, 'from': {'id': 1061810735, 'is_bot': False, 'first_name': 'Eldon', 'username': 'eldon114', 'language_code': 'en'}, 'chat': {'id': 1061810735, 'first_name': 'Eldon', 'username': 'eldon114', 'type': 'private'}, 'date': 1712386061, 'text': 'who is the prime minister of the UK'}}\n",
            "who is the prime minister of the UK\n",
            "<s>[INST] Answer the following question, making use of the documents provided below if they are relevant. Do not use those documents and do not mention them if you deem that they do not contain any relevant information. Do not mention the id of the documents. If a document is relevant, add the source of the information by adding a link to the exact url that was used. For that use the 'source' field of the relevant document.\n",
            "Question: who is the prime minister of the UK\n",
            "\n",
            "    Documents:\n",
            "- {'source': 'https://en.wikipedia.org/wiki/Rishi_Sunak', 'title': 'Rishi Sunak - Wikipedia', 'language': 'en'}\n",
            "            Content: vte\n",
            "Rishi Sunak (/ˈrɪʃi ˈsuːnæk/ ⓘ;[1][2] born 12 May 1980) is a British politician who has served as Prime Minister of the United Kingdom and Leader of the Conservative Party since 2022. The first British Asian prime minister, he previously held two cabinet positions under Boris Johnson, latterly as Chancellor of the Exchequer from 2020 to 2022. Sunak has been Member of Parliament (MP) for Richmond (Yorks) since 2015.\n",
            "- {'source': 'https://en.wikipedia.org/wiki/Rishi_Sunak', 'title': 'Rishi Sunak - Wikipedia', 'language': 'en'}\n",
            "            Content: Gentlemenas Prime Minister of the United Kingdom \n",
            "\n",
            "Succeeded byLindsay Hoyleas Speaker of the House of Commons\n",
            "\n",
            "\n",
            "Order of precedence in Scotland\n",
            "\n",
            "\n",
            "Preceded byAlex Chalkas Lord Chancellor\n",
            "\n",
            " Gentlemenas Prime Minister of the United Kingdom \n",
            "\n",
            "Succeeded byAlister Jackas Secretary of State for Scotland\n",
            "\n",
            "\n",
            "Order of precedence in Northern Ireland\n",
            "\n",
            "\n",
            "Preceded byJohn Kirkpatrickas Moderator of the General Assembly of the Presbyterian Church in Ireland\n",
            "\n",
            " Gentlemenas Prime Minister of the United Kingdom\n",
            "- {'source': 'https://en.wikipedia.org/wiki/Rishi_Sunak', 'title': 'Rishi Sunak - Wikipedia', 'language': 'en'}\n",
            "            Content: ^ Zeffmann, Henry; Elliott, Francis (5 June 2019). \"Moderates back Boris Johnson to be next prime minister\". The Times. Archived from the original on 9 July 2019. Retrieved 20 February 2020.\n",
            "\n",
            "^ \"Full list of new ministerial and government appointments: July 2019\". gov.uk. 30 July 2019. Archived from the original on 4 August 2019. Retrieved 1 October 2019.\n",
            "- {'source': 'https://en.wikipedia.org/wiki/Rishi_Sunak', 'title': 'Rishi Sunak - Wikipedia', 'language': 'en'}\n",
            "            Content: Succeeded byCommonwealth Prime Ministers\n",
            " [/INST] Rishi Sunak is the Prime Minister of the United Kingdom. (Source: <https://en.wikipedia.org/wiki/Rishi_Sunak>)\n"
          ]
        },
        {
          "output_type": "stream",
          "name": "stderr",
          "text": [
            "2024-04-06 06:48:00,968 (__init__.py:1027 MainThread) ERROR - TeleBot: \"Infinity polling: polling exited\"\n",
            "ERROR:TeleBot:Infinity polling: polling exited\n",
            "2024-04-06 06:48:00,971 (__init__.py:1029 MainThread) ERROR - TeleBot: \"Break infinity polling\"\n",
            "ERROR:TeleBot:Break infinity polling\n"
          ]
        }
      ]
    },
    {
      "cell_type": "markdown",
      "source": [
        "<center><img src='https://drive.google.com/uc?id=1kKviHTfUg5KMplQ7Qmvbcl2VjME_Aff6' width=\"400\"></center>\n",
        "\n",
        "Great! Our bot can now use content from the web to check answers, or get more up to date information! Now what if we want to get information from a PDF file, for example a research paper?"
      ],
      "metadata": {
        "id": "ifDEoeU2kAuu"
      }
    },
    {
      "cell_type": "markdown",
      "source": [
        "### Using your own pdf files"
      ],
      "metadata": {
        "id": "YOquOpNSkTmu"
      }
    },
    {
      "cell_type": "markdown",
      "source": [
        "We first need to install the pypdf library, we need that library for processing PDF files."
      ],
      "metadata": {
        "id": "giwLVGVmpqtw"
      }
    },
    {
      "cell_type": "code",
      "source": [
        "!pip3 install pypdf"
      ],
      "metadata": {
        "id": "VxBL9qH9lAq5",
        "outputId": "beff5f1c-ec18-4b9d-f103-2582d157f751",
        "colab": {
          "base_uri": "https://localhost:8080/"
        }
      },
      "execution_count": null,
      "outputs": [
        {
          "output_type": "stream",
          "name": "stdout",
          "text": [
            "Collecting pypdf\n",
            "  Downloading pypdf-4.1.0-py3-none-any.whl (286 kB)\n",
            "\u001b[2K     \u001b[90m━━━━━━━━━━━━━━━━━━━━━━━━━━━━━━━━━━━━━━━━\u001b[0m \u001b[32m286.1/286.1 kB\u001b[0m \u001b[31m4.8 MB/s\u001b[0m eta \u001b[36m0:00:00\u001b[0m\n",
            "\u001b[?25hInstalling collected packages: pypdf\n",
            "Successfully installed pypdf-4.1.0\n"
          ]
        }
      ]
    },
    {
      "cell_type": "markdown",
      "source": [
        "Since we only communicate with the bot API, we will not directly receive the file when an user sends it. We need to manually download the file, after asking telegram to provide us with the url address.\n",
        "More info [here](https://core.telegram.org/api/files).\n",
        "\n",
        "Let's put all that logic into a `dl_file` function, that takes a given message as input. It will use the `requests` library."
      ],
      "metadata": {
        "id": "JSxg9GQhp1cZ"
      }
    },
    {
      "cell_type": "code",
      "source": [
        "def dl_file(message):\n",
        "    import requests\n",
        "    file_info = bot.get_file(message.document.file_id)\n",
        "\n",
        "    download_url = f\"https://api.telegram.org/file/bot{bot.token}/{file_info.file_path}\"\n",
        "    response = requests.get(download_url)\n",
        "\n",
        "    if response.status_code == 200:\n",
        "        with open(message.document.file_name, 'wb') as file:\n",
        "            file.write(response.content)\n",
        "        return True\n",
        "    else:\n",
        "        return False"
      ],
      "metadata": {
        "id": "Nzhw0V9GkqeE"
      },
      "execution_count": null,
      "outputs": []
    },
    {
      "cell_type": "markdown",
      "source": [
        "We now have to add a new handler to our bot, that will check wether or not the document that has been sent is a pdf or not, and will process the file and add it to our database, so that we can search from it.\n",
        "Lets call that handler `on_document`."
      ],
      "metadata": {
        "id": "suSEbP8QqX4x"
      }
    },
    {
      "cell_type": "code",
      "source": [
        "def init_bot():\n",
        "  bot = telebot.TeleBot(BOT_TOKEN)\n",
        "\n",
        "  @bot.message_handler(commands=['start'])\n",
        "  def on_start(message):\n",
        "      bot.send_message(message.chat.id, \"Beep, boop, starting bot...\")\n",
        "\n",
        "  @bot.message_handler(commands=['newchat'])\n",
        "  def on_new_chat(message):\n",
        "    llm.chat = []\n",
        "    bot.reply_to(message,  \"Starting new chat!\")\n",
        "\n",
        "  @bot.message_handler(content_types=['document'])\n",
        "  def on_document(message):\n",
        "    if message.document.mime_type == 'application/pdf':\n",
        "        reply = bot.reply_to(message, \"⬇️ Downloading file ⬇️\")\n",
        "\n",
        "        if not dl_file(message):\n",
        "            bot.edit_message_text(\"❌ Failed to download file\", reply.chat.id, reply.message_id)\n",
        "            return\n",
        "\n",
        "        bot.edit_message_text(\"🗃️ Adding file to database 🗃️\", reply.chat.id, reply.message_id)\n",
        "\n",
        "        loader = PyPDFLoader(message.document.file_name)\n",
        "        pages = loader.load_and_split()\n",
        "        chunks = text_splitter.transform_documents(pages)\n",
        "\n",
        "        vectorstore.add_documents(chunks)\n",
        "\n",
        "        bot.edit_message_text(\"✅ PDF received and added to database\", reply.chat.id, reply.message_id)\n",
        "    else:\n",
        "        bot.reply_to(message, \"For the moment, I only support indexing PDF files. Please send a PDF file.\")\n",
        "\n",
        "  @bot.message_handler(func=lambda msg: True)\n",
        "  def on_message(message):\n",
        "      print(f\"Message received! {message}\")\n",
        "      reply = llm.get_reply(message.text)\n",
        "      bot.reply_to(message, reply)\n",
        "\n",
        "  return bot"
      ],
      "metadata": {
        "id": "gD2NAIy_kU9j"
      },
      "execution_count": null,
      "outputs": []
    },
    {
      "cell_type": "markdown",
      "source": [
        "We can now try sending our own documents to the bot, and ask for information about it! Let's try!"
      ],
      "metadata": {
        "id": "aZEKoCj_qrGL"
      }
    },
    {
      "cell_type": "code",
      "source": [
        "bot = init_bot()\n",
        "llm.chat = []\n",
        "bot.infinity_polling()"
      ],
      "metadata": {
        "id": "3ZQOd_Avky1X",
        "outputId": "6635a048-ca45-45a7-8adc-0bc870b44e8e",
        "colab": {
          "base_uri": "https://localhost:8080/"
        }
      },
      "execution_count": null,
      "outputs": [
        {
          "metadata": {
            "tags": null
          },
          "name": "stdout",
          "output_type": "stream",
          "text": [
            "Message received! {'content_type': 'text', 'id': 37, 'message_id': 37, 'from_user': {'id': 1061810735, 'is_bot': False, 'first_name': 'Eldon', 'username': 'eldon114', 'last_name': None, 'language_code': 'en', 'can_join_groups': None, 'can_read_all_group_messages': None, 'supports_inline_queries': None, 'is_premium': None, 'added_to_attachment_menu': None}, 'date': 1712386522, 'chat': {'id': 1061810735, 'type': 'private', 'title': None, 'username': 'eldon114', 'first_name': 'Eldon', 'last_name': None, 'is_forum': None, 'photo': None, 'bio': None, 'join_to_send_messages': None, 'join_by_request': None, 'has_private_forwards': None, 'has_restricted_voice_and_video_messages': None, 'description': None, 'invite_link': None, 'pinned_message': None, 'permissions': None, 'slow_mode_delay': None, 'message_auto_delete_time': None, 'has_protected_content': None, 'sticker_set_name': None, 'can_set_sticker_set': None, 'linked_chat_id': None, 'location': None, 'active_usernames': None, 'emoji_status_custom_emoji_id': None, 'has_hidden_members': None, 'has_aggressive_anti_spam_enabled': None, 'emoji_status_expiration_date': None, 'available_reactions': None, 'accent_color_id': None, 'background_custom_emoji_id': None, 'profile_accent_color_id': None, 'profile_background_custom_emoji_id': None, 'has_visible_history': None, 'unrestrict_boost_count': None, 'custom_emoji_sticker_set_name': None}, 'sender_chat': None, 'is_automatic_forward': None, 'reply_to_message': None, 'via_bot': None, 'edit_date': None, 'has_protected_content': None, 'media_group_id': None, 'author_signature': None, 'text': 'whats the difference between ethics vs law?', 'entities': None, 'caption_entities': None, 'audio': None, 'document': None, 'photo': None, 'sticker': None, 'video': None, 'video_note': None, 'voice': None, 'caption': None, 'contact': None, 'location': None, 'venue': None, 'animation': None, 'dice': None, 'new_chat_members': None, 'left_chat_member': None, 'new_chat_title': None, 'new_chat_photo': None, 'delete_chat_photo': None, 'group_chat_created': None, 'supergroup_chat_created': None, 'channel_chat_created': None, 'migrate_to_chat_id': None, 'migrate_from_chat_id': None, 'pinned_message': None, 'invoice': None, 'successful_payment': None, 'connected_website': None, 'reply_markup': None, 'message_thread_id': None, 'is_topic_message': None, 'forum_topic_created': None, 'forum_topic_closed': None, 'forum_topic_reopened': None, 'has_media_spoiler': None, 'forum_topic_edited': None, 'general_forum_topic_hidden': None, 'general_forum_topic_unhidden': None, 'write_access_allowed': None, 'users_shared': None, 'chat_shared': None, 'story': None, 'external_reply': None, 'quote': None, 'link_preview_options': None, 'giveaway_created': None, 'giveaway': None, 'giveaway_winners': None, 'giveaway_completed': None, 'forward_origin': None, 'boost_added': None, 'sender_boost_count': None, 'reply_to_story': None, 'json': {'message_id': 37, 'from': {'id': 1061810735, 'is_bot': False, 'first_name': 'Eldon', 'username': 'eldon114', 'language_code': 'en'}, 'chat': {'id': 1061810735, 'first_name': 'Eldon', 'username': 'eldon114', 'type': 'private'}, 'date': 1712386522, 'text': 'whats the difference between ethics vs law?'}}\n"
          ]
        }
      ]
    },
    {
      "cell_type": "markdown",
      "source": [
        "## Additional Ressources"
      ],
      "metadata": {
        "id": "Sb6HNi1BmdsJ"
      }
    },
    {
      "cell_type": "markdown",
      "source": [
        "How does document loading works ([source](https://python.langchain.com/docs/use_cases/question_answering/))\n",
        "\n",
        "<center><img src='https://python.langchain.com/assets/images/rag_indexing-8160f90a90a33253d0154659cf7d453f.png' width=\"1000\"></center>"
      ],
      "metadata": {
        "id": "WUSMXV6Bmgh2"
      }
    },
    {
      "cell_type": "code",
      "source": [],
      "metadata": {
        "id": "Xxec1pYJk1BU"
      },
      "execution_count": null,
      "outputs": []
    }
  ]
}